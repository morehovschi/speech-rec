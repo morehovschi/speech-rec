{
 "cells": [
  {
   "cell_type": "markdown",
   "metadata": {},
   "source": [
    "## Single-word speech recognition on the Tensorflow Speech Recognition dataset\n",
    "\n",
    "This notebook has four sections: preprocessing, training, evaluation, and testing on own voice commands. To evaluate the final result, skip to section 4 (testing on own voice commands).\n"
   ]
  },
  {
   "cell_type": "code",
   "execution_count": 2,
   "metadata": {},
   "outputs": [],
   "source": [
    "import os\n",
    "import random\n",
    "import time\n",
    "\n",
    "import numpy as np\n",
    "import matplotlib.pyplot as plt\n",
    "import tensorflow as tf\n",
    "\n",
    "import librosa\n",
    "import IPython.display as ipd\n",
    "from scipy.io import wavfile"
   ]
  },
  {
   "cell_type": "markdown",
   "metadata": {},
   "source": [
    "### 1. Preprocess dataset\n",
    "\n",
    "This step relies on previous preprocessing that simply cropped the first second of each audio file and saved the recordings as rows in one big matrix (ndarray)."
   ]
  },
  {
   "cell_type": "code",
   "execution_count": 3,
   "metadata": {},
   "outputs": [
    {
     "data": {
      "text/plain": [
       "array(['bed', 'bird', 'cat', 'dog', 'down', 'eight', 'five', 'four', 'go',\n",
       "       'happy', 'house', 'left', 'marvin', 'nine', 'no', 'off', 'on',\n",
       "       'one', 'right', 'seven', 'sheila', 'six', 'stop', 'three', 'tree',\n",
       "       'two', 'up', 'wow', 'yes', 'zero'], dtype='<U6')"
      ]
     },
     "execution_count": 3,
     "metadata": {},
     "output_type": "execute_result"
    }
   ],
   "source": [
    "labels = np.load(\"data/labels.npy\")\n",
    "labels"
   ]
  },
  {
   "cell_type": "code",
   "execution_count": null,
   "metadata": {},
   "outputs": [],
   "source": [
    "sr = 8000"
   ]
  },
  {
   "cell_type": "code",
   "execution_count": 2,
   "metadata": {},
   "outputs": [],
   "source": [
    "x_train_raw = np.load(\"data/raw/x_train.npy\")"
   ]
  },
  {
   "cell_type": "code",
   "execution_count": 6,
   "metadata": {},
   "outputs": [],
   "source": [
    "n_examples, rec_length = x_train_raw.shape"
   ]
  },
  {
   "cell_type": "code",
   "execution_count": 11,
   "metadata": {},
   "outputs": [
    {
     "name": "stdout",
     "output_type": "stream",
     "text": [
      "seven\n"
     ]
    },
    {
     "data": {
      "text/html": [
       "\n",
       "                <audio  controls=\"controls\" >\n",
       "                    <source src=\"data:audio/wav;base64,UklGRqQ+AABXQVZFZm10IBAAAAABAAEAQB8AAIA+AAACABAAZGF0YYA+AABSAR8CqwJmBPsFjgbqBQkGKQayBQYFngOiAtkCMwN0A8gClgCE/1D/o/9jADQAmv82/4v/5/+r/9X9F/vS+hT8nfyr/CH8YPx0/TL+v/wv+kH5sfrN/Z3/jAAiA7sFaAUmBVIFBQY+B0oHxgarBK4CyQEEAqwC9gEwAG39mPoC+pj7Cf6g/8T/dP7n/eH+fwBDA74DXgILAooDfwTlA1IDUwJTARgBoQITBIgFwQbUBYgDdwEkAbsBrALdAhoCYgI+AtAADgCi/2f/if/N/47/5gDsAwIF9AL//2P+NP6b//8A/wGdApwDOwRVA2ABJQEVAkACZwLoAd0BLQJfAz4CRAAv/uD7UPyu/Xn/w//K/7b/4f8OAYsC6AOdBD8EygLtAO//2AG9A70E2wQuBJUDaQOTATD/mv3y/Hj+vP7k/rH/rAHbA9ED+AEDAUUB1QFAAez/xv5S/aT9Wv58/tP95/zU+4X88v6NAI8ByQAgAKAB6QPtBd8FiQRkA/EEUgcoB2oFDgLt/0j//v44/9P/m/+W/cL7NPsd/TgAhAKJAx4ClQBpAT8DxATpBcEFowUCBlcF2wNvAkkBzwDOANQAvgBeANcAhQB0/7j+y/7oAGQDxgM7AkMAkf8tAO4BFwQIBH8ChgEJArgCiAMXBY0FHAXyA0ADOwMJA70DawJgANX/v/9pAZQDrgRmBHYE5AMgApoA0P+x/9gAQgNYBCwC8P+a/xQAXQLDA6cDAQNyAzoE5QP8AqICuAIjA68DsQM4AisAuf++/jb+JP7T/Tv9wPu4+bf3j/fO+AX78/3k/h7/UQAuA4UF9AQuBPYDBwTdBHoErQPkBCsGLAWtAcQAcgL6AikCKwLEA84DwgKUASACTwMGA4sB4P/T/5//gwCYAggESQOkASUBwAHjARgAI/+z/iv/bQBEAxYHTgn9CEIHzQSbAggCmgB5/lv7z/kE+978yP3Z/Ej6WPkN/K/+5f+D/+/+nP0R/QH+jv5n/1oAuQHcARcBkgAWAeoBCgHr/xIAkgFtA6oECQVgBIkDygJBAi4DOwQ3BNYC+QF1ApUCZgMbBCIFQgU5BGEEIAWJBqYGxQSBAxwD1QJQAqoBOQHFAKsB3AJ6AgICMAO6AsgA+//E/4P/+v57/u/8Gvu0+YP5j/q+++X6rviu9wv4uvkW/Ir9bf5z/1kAaQJjAwUDXANSA1MDWgNCAzwD/AJkA+ABxf/Z/hn+0P62/rH9gv3n/sb/h/86/8n+Bv4Q/fn9f//dAZoEZgQyAS/+V/wP/U7/+gCtA3oE7gJDAdsARQGmAU0BlQHuArgDjgOHAZ39WvlR+IP5Rfyg/s/9Xfsc+kn6R/wy/0EAHAH/AZ8DSwSjBLoFigTjAQEAaf96/9cA4gKBA84CIwHZ/9//WwBhAZwAl//J/qz+y/+XAQoECQREAw8C9gFYA4IDSAKgAfkBAgPmA34E+ASSAzgCiAHhAfICLgSVBJIDvAKQAU8AuP/K/8n/u/4X/bb8Ff7Z//D/Uv46/HH7CvxZ/Gj9Lf5U/lT/1f/O//D/6v/kAJMCawOVA+sCnAGKAY8CYQNfBCEF7wR/BLUDcQEo/1f+P/62/ZD83vuw+0X83/2U/wUAyP/I/3P/MADfATIDpwOgAy0CDACr/4L+jv19/RT9Dv3//CP8nvqi+3n+DgC0AWIDdgOFA9cDsgQ6Ba0FBwaKBN8ClAD5/98A7gCCAd4ChwPuAv0BCwIvBBgGYwZTBCIB6f4D/vb9Iv6Q/xIA2wB1AaUB5QKAAzsDDwES/1b9Yv0G/z0AawKIBAAFWwOTAYkBIwNoAwMBKAAnArgDrwNKAlwAhP+9/2IBpQPsAwcCAADF/7//8P/aAMcAlv8G/1H/Af/W/Vz7TPlu+DL59/vt/rYA3gDZ/yH/if8SAPUASgIwA8EDPQPbAocE1QYbByEF3AL5AYIDLQWXBK0Btf6B/Gz8n/4jAMb+h/uf+lP8/P4wARoCgABL/0v/yf+sAHQBtQJlA00DgQKCAdb/W/2o+r34IfhC+SX7t/yM/Eb9Rf/vAF4DLgUvBQEFIwWsBKQD+gFrAVcAk/9x/4//y/8xABwBOgGXAAv/Vv0r/WL/wwAmAUUCXwNZBakH9geJBggElwHAAUUDoASqBAUDswCa/8X/hv/k/hH9+vsU/Kr9wwDrBOkHJAfkAvr/xv8qAI8BpgBf/9n+CP8fAZcDEAPoAPz/5P+B/yj+hP2k/X/9qv3j/tz/5ABfACf+Z/v++t79CQEqAy0EigTCAywD+QFJAQICQwMnBL0ElgQDA00CKAPtBBwGKAbPBNIDdgSKBGUEwgSZBVwGvQUgBNwAtf0o/Nn7hvyV/en9wv7H/8L/4v+Y//z+g/9KAcUA4/+1/jz+Xf94AO0Aov8i/g39Pf5Z/kn9ff0n/pb+lv5W/+r/8P/k/+z/W/+Q/pv+lP+u/+n+4f5v/6f+VPx1+2b72PsS/Uz/gQL/BCwFQgVRBf4DZAOAA+UCLwE1AdEBnwLwARIA2f+e/3gAeAKcAw0DKAK6Aa8BoAIJBWUGLAUGAzoCNAMiA2gBEgCFATYDcgJyAK39nPyu/XX+ov70/cH8WvxO/TX+aP6c/vn+Lf9r/jL+FP+m/6L/U/+7/uj+yP+SAFABEwJeAdb/2v/o/9YBcwRZBT0FkgSsBQAH9wa3BaMDwQH8/5X98vv7/KP+d////x8BtAISBFYEaAP8AR0B1AHEAlUEZQXwBKECAwBy/jD93PzN/A/+FP9//43/5/7t/Xb81/tC/PT8Nf0f/s7+r/7X/lb/vgBVAr0DOAXnBJMCbQFkAdAAJwH/Ah0EZwP0ARcBWwGbAe0BBALHAtQE8gZEB/8E5wI9AiUCXQKyARoAyQAwAswCfgL+AOv/p//Q/w8AHAJvA+gD+gQyBecFwQUsBV4EmgQlBj4GOwWNAwsCVAGxAYQCSgHH/9b+g/4F/hb8R/sI/AT+3/7x/sz/TwLxA9gCggG0AUEDdAUfBmgE5AHZ/73/2P8W/+/9TfzP+gX6bvo4/VX/MQAsAboC5QTXBiYIzgejBisEWwHd/wr+VP03/WD8dvuK+5H9cf7W/ZT8L/zu/br/NQBZAXMB6/8gALIAZAK/A1MDdQJIAt4CsAK+Ac//pf+x/6j+kv3p/ZX/uv+s/xT/KP/eAPUBUgF7AHoCMwWJBvgGEwarBGAEDwSGAy8D0AAT/6j+Gv/A/3YAQAEVAU4B3gFuAwMG0QetBh4EXgJRAtACcgOkAmMAyP/IAHwBdACY/uL9u/9EArYETAX7ArYAz//fADcDSAX2Bf4E3QKlAJz/0/5V/n790fxK/aP+pP/g/2n/Qf+x/7r/kP+3/n/+y/5r/wgAwQIRB6EJLQmuBm0DqQD//8T/K/8N/1b+/fx7/Dv81/yF/YL9Z/3y/LL8B/6mAY8FjgaUBHcBvv/S/8n/BABs/9/8Svq9+FP7Gf8IAL/+hPtA+Y/5Ffxa/Y79wP1G/pn/FAIvA/wALv5I/ET9lP8KAmcDSwMHAncBzALmBA0HuQehBpsEaQSlBVwGrgTGATgAdP+D/w0AZQFtAdz/gP56/DT9aP/X/4P+U/0Y/pf/EALEAtQCGQPrAnEDxANxA68B+/+w/9z/Vf6Z+wH5tfi5+kz8evtp+1X9+v3T/Tf8nPpX+eL50Pug/VL/fQFwAzcE2gPnA/EFwgaWB3AH1AXaAzsCUgEXAPv+5P3Q/EP8Lfzk/Yn/mf/j//X+8v7f/1ABsAO3AyEC/AJCBKMEUAY0B44GAwS2AMX//wD8AaYBjwB0AfkDxQRGA4AAj/7B/ID7jfr8+GD4tPjq+V/6R/q6+4f9Tv8RAlEE5AUsBwEH2QX4BH0ELQSJBAgE4wL/ApYCCAFE//P9KP73/mL+7Px5+937+v1bAOcC7QLCAnIClAGkASYB0QDgARYE9QX5BpkGJwYJBSwDPAI6Am8CbQHX//7/FgHQAv8F5wYNBTgDAQIWAU4AEgDp/7z93frj+i79XP+U/p/7wvhP+Mv79v6//5r/qP0p+y/7Hv1L/7IAbQKiA40EGAXKBJ8EZATDAgoBBgFGAkkEwQQOBJIBCgHTAhYEUQS7A4IDKwNeAxcERgWJBUoFtATsAsEBegO3BMQD2QKvAKP/nv/mAA0DYwNwA7gCbAKhAogCbALUAREBeAGaAhED0AKuATkAbP92/hz95/tv+7r8RP7w/vYA0gPzBWMGsQQ7AjABBQOgBHEFuwSwA6MClgE1AVYAkf8s/mT9H/6a/wkA5/+t/27/e/9VAKQBQgIkAi4BSAGSAZECZwMBA4QDQgQgBLoB1v9C/0n+9P2H/hX/UP/u//kBtwLxAAcApf9D/3r////RANEB1QHWANP/EP+9/aH9Df88/3f/z//Q/zwAlgD7AfcETwZ/BOwBawDI/7b/vP+EAMECbgO3AtsATv/F/dj8i/0b/Xb9rv3v/QD/0f8gASICNgHdAPEC/wQCBqsGQgfWBmAFOATbAq4BTAGCANL///8JAFoADgFzAN//v//aAAUCsgJ/A5YDJAOvAdYAigE4A5QEBAUiBVIDdQBO/0b/PAAcAS8CCQQYBeoElwOhAlcDfARYBa4FOgXTA2cCrALmAswBRQCi/2P+0Pzd/Ez9Zv7q/8AAqgGYAgsDQgMBBCMF8wTeBBgFzAQ7A4ACSwRrBb4EdgLE/wr+3vz7+xv8cvz1+/v63fv9/bb+r/13/Xz+7f5zADoC/AGUAOIAmAIUA0EDRgNYA0sERARwA30CjAG2AXUDfwVMBuEFjQVeBsEGQAbJBBoCpAC9AXMChgFRAQoC5wLqA/YDJARyBPcDkgP0AdsAlgBmAfsC6QKXAXsARgLLBHgFlwTCAmwArf7M/fX7Lvvp+uf6l/zk/dn+TP8Q/+v+kP9n/y3/yQBQApcDogRWBPkEVAVbA98CSwMnAuMASf+r/ZP9vfxW/K781f7qAHECZgUECKYJxggnB7kEBgTbA0cEcAb/BnAFlwLPAHP/hP2T/YUArAHWADD/vf7O/4D/bP8AAHIAyf/1/mT//v6I/ov+qv5RADsBsP/p/cv9Zf1N/VX+s/6d/n/9wP0ZAPYAGwBc/wIABQJEBFYFhwU/BH8BYf10+/H8Gf5o/mX8B/tb/TcAkQFdAw4FQgULBDsC4gGIApEDAwUzBZ4DMgFc/4v/mwCkAXcCkgIbA1ECzf8R/v/8ZPzX/YEA+gLGAjMASQCK/zD/gP/f/Qn9n/3d/dP8IP3a/Tf+if6L/Q/9Dvx9++f9wwCxAqoCGQNSAsMCVgKsACcA3f5V/2b+GP4d/ij95PyG/24CtwKOAmwCNQGu/zr/AQAeARsB+wCmAIUC8wT2BXUG2wQNAsYA1gFzAdP/n/8s/5D/tf/J/4L/iP5oAG0ELgYsBfEDKgLbAaYCqwKzA5EFuwWiA0H/U/zZ+ir7Mv5DAAP/s/zW+hT4VPht+tD89/8OA2kFMQaBBIkCQQFjAQUCeALtAnYCCAKNATkCngIhAfv+e/4B/2AA8wHpAfAATwBEAMkAOAHgAQ0CNwKwAmcCKQLuALz+1f3y/Uz+S/+7/i/+pf4JAIgCEgVTBWwCSgFDAcUAjgCnAFQCvgNCA/YAe/7V/Wn/HQJXA8sBDgDx/70ApAD1/Xv+KAAsAiYELgKPAXIB6wJUBEkErQPeAx8ErANcBHkDbwJGAWcAewCuAagA9f5H/zoAkAE7AYgBxQCY/t3+7f/rADMCpAHRAMj9Svol/Ln/fQGlAMf+5Pvr+7L9mP4cAhIFMgW1A6YDwAJrAhsCfQBRAZgBoABL/7j++/8gABf/Wf5F/Nv75vvy+zr9sv16ALUBHgDAACIB9wEfAvQAIAEqAR4BTABn/if/JQKFA/ACWQIAAkQB1wH0AacDcwQgATb/7v6XAYcE5QRkBEEBcfy9+Ov5g/ug+TP6f/yt/SD+d/2O/Kr+vf+w/8oBiAN3BRcEuAHyAKIB6wLxArICDAJCAWEAQf7A+0H8Z//3AtcD4gFf/Rv5P/k9+yr+5v+5AIQAyf83As4EOghtCskJnAbQA9gBxgJmBBUCOQK4ABj9lPwp/dn9Qf/L/4D+IP5p/nr/iQAA/7P8jfyIACACJAGB/7r8r/0SAFgAMABN/y8AEwAs/xABjwDiANQC+AK7AmsEYAXfA/ABPgDR/179VPya/Ar9ov8ZAocDigHN/+r9mv0W/pEA7AHYAZsEMAbwBowEOwKoADEBdQSTB2IHOgTZAEX/NQDgAf8BAQCHAAkChgJgBAwGOgMjAG3+mvy9+338kf7A/sf8T/t6+737ufzN/r7/WP9//wD+ifxA/br9ef/b/57+l/84Av4CwAGlAJYAOwJuAjUDqAJfAM3+o/1T/xsAawB5ACL/of7a/3gC+QX/BSwD/AKwBGUGQwfmCLIIFgmBCDIH5QS8AIf/eP4z/fT7Kv2gAL4CJAEf/oP70Ps8/3MBtf+g/iwAzwHwA5kEegW/BXADfACn/fT7MPwx/K/7RvvW/Dn+yv/bAoIF8QZ1B8QFKALI/0cA3QGQ/x79cvse+tT5DPwf/14BsAE1AsIDkwMBA4cC+AHxAHkCfQLoAwgEewOVAkT/JP/v/wQCKAJuAmMByQAWAWv/0P0e/FD9jgCNA/ECiwF1/4j+HQB1/+H/OgFWAvkCogHEAIAA6v/d/4z/2/5U/mz/lv9J/dn7rPys/Y3/bwCuAI8CLgJWAT8BVAHmANsB+QENAoYDiwI+AX8A7P6q/ncA+QCzABcBlAGTAJYA3gImBbwFzAU/BW4D7gGsARAC8QHzAgoEIgI1AeABPQKgAqIBSQGLAPEAPAOhBQQGSwQCAUv+zf2Z/yIBggAAAFgAlwJFA0oB5f+1ALgAtgC//yT+wvxS/Gv8tvvn+h77L/3A/88DZQUXBfIDGwSPBJoD2AJIAX3+r/3P/oL+Ov+y/0H/3f4l/10AMgJwA4wC0AEYA3MDPARUAzT/If3g/ej/sf7m/HX9z/2K/2QA2wD3AD39s/vY/L7+VQAQACkAzwEIAkYBTwAQ/wMCQQWEBvwFwwOwANf//v4P/sD9k/xG/UwARQMxA44DeQOIAnQCcAOMA50DRgRcA2UDqQIAAoAB3P7A/lT/Vv+DAIEBCwIVA4UEBwWZA6QDzATRA8oCmgGeAYcBogFxABIAEQHQALkBgQIdAa//Nf/m/Nn7f/3g/rP+F/8d/17/WwCmA7MHfQhzBzcELwG4AKQBVAGLANQATQKzAn8CTgLrAU8CxQI5A3ECDgKyA5sEfwSVAwUCcABM/97/RgGtA+sENARFAbz+sf63/s3/QwFQAfT/MP9HAJwAMwGsAjME0AQfBEYE/wJnAmwBKQCb//7+kv7G/D/8nvu6+g38vP6xAGYAU/9t/lf+UACKASYBGAFxAjMDmQSaBSsEQgIWA4UEpgKJAcL/E/8OAdgCwANeA64FKQeaBG0DKwN7AUQBVAPQAzoE5AHa/9oABgFgAZwBpQExALT+m/xy+xn8wv+CArcCMwHlAEsD5QGDAfYASwD3/zUCTQdzByAFBAIz/yf+Av7uAJ8CPv87/CH7QPw7/gUAGQESAOX9Nf6AAHMBOwL5AFUAmP8VAKIBRQHMAJkASgCiAN0CiwHUAT4EVgWZBdkDhwJ5AjgC7QD5AcgCkgGo/+L+uACKARcCfQOqBCUFKAQOBIUCqgB1AAgAcABkAG8A4ACu/xX/k/9xANgAzf7w/UD+bfuM+Oz40fkG++D5Xfj19+/3X/s/AGICLwL+A7wFPQWOBYEGeAeMBxYG2wR4A/8BdACP/lT9Qv6QAHcDigRJAkH/j/62/97/jwHfBIgFtAQTAqf/PP8o/54AmAK8AuT/YwCBAx8E0QJeAIf9ZvyM/jAACgBzALoBjgJ8BRUIvge6BIz/T/yB+2f6Kvps+l/7DfyX+sD75v9eBNoCtABdAQwCMgKcAGEAFAFe/0n8BP5iApIDBQOkA7EBpgC/AHUCuAMPAov/7vtL/SL/of5M/mkAmgDs/XYAxQM7AjECDAalB3kHZgaGA2MADf/5/2gBMgGd/1j/ef3x/XIAxgGKAtsBqgNeBOsBVf6l/PP8Pv2A/Cn81vxc/ur/Mv56/tL/AQL6A6MDqAAq/FP9CwFMAwYDWwPTAAAAaQPWA1oD8wNPBGkDJQR1A/oBHwGc/3X+cf7K/Tv/uf8W/iP+Gv47/tX/pAJcBMoCgwAgAhgDvgJ6BEIEcQBr/xL/ef/9AHIBBwJpABr/iv6sAOcDdgPGAlEDwQDg/er9TvzG+xD+XgGnAtMBZQE///v9pv/HAQwDvwHu/M75nvpF+rr7TQBtAksDCwNEA9wDGQEa/kb8r/ta/hoBtgPcBDwE5ATLBJICav+k/b79gP9X/yP+kP9SARcBDwMYBMQBav/6/rH/Jf+I/zkA4QKnAa3/pgAFAN7+jv2S/KH8AP/i/9/+IP4v/9MALgEyARQBHQF6AIT+cQDnA8wEhAS0Al0BRQBlAJIAOQFCAkoB6/wk+tX7Hf5+AfYDVgMLAnAFhwlQCGEFHwR3Al0BtQL1AnYA7/x8+qH6IPw4/Zj/LQLJAosA1/6CAEYAR///AGUBagCXACUB2P+a/cn8AfxL/Oj9qf0d/RH/UwAIAWcD7APHAFD+xP8jAtMCKAK3AWkAdP3++ir8ZP7t/nP/nwDBATABDQO+COkNnhEIE0sSURCSDAUHPQJzAHH+hfyl+qX35/MQ72vpfeQ23gXWr9MB3izzNwoXIDc0YUR+SoNFQTfHH78CcOVNz+vBqL1+x0/fy/uIEtchNS4FMxQoxhJnAtP6H/aM7v3pGPDg+xcDsQKp/p3z/+Nm11DUJ9t96OL2VgUuF2Ylbix2Mbs0tjLfJ6wVRwSw96XuWOdY5szsDPNx85v36ACJCVkL8wivB4kITAd8/LDfgbiblvmQ2b+O/pRHKHZydP10mHaATS/90rH/iqeKoIrIioCyUQbhT4Bwn3STdW5q0zSk6467eat4rZG7ltsBA74htzQOOKwscRF+7wTZkdLw1EPdqeex7TrxP/BR6jbxOQuKKHBGf2NDauVa8jwwEVzfALcGqJGtFLn6yJTllA2JLbMwoCcpLRU6ry2UClH0avXW+jz91PNz1LKt/Y68l8fA5POAOvxwM3XvdodrfjZf+cDS7cSCrT6UEpue0QwRfC9vN99M/2VSUasVnOZs14nR5s934fn86hPoITEb8P0k1Su03aS2rWvDsdlj8nUSSTN/Vk90b3SYdlNfgSHR5iuulZZLo3vMpQEmLAhE6EavLCj66sf8oY2UGpjWu2700kZicxJ3Lm/VN5XYto2xicKLkpiG+Q5rTHhuch55Hlu3+Iqe+IlcjBuzSdua+2YzrWI/WZ8qnxMgGnUGHdWVwXTa+vnACuMUVyWnJQ8PfO27xh2pCpgIohjLY/smIMEv0y6sKfMn4DmeUdRb5FdRNhr737xKnK+nF9SdC3Q2sk3WTewr6+Vqof2F05ZfuJHfAgTGTF13hXTCcj44PPENpPyEIZDqhPuwXysudOByRnY0cmc5kMJZieeKwo0s1vwVyx7qLEpJilMiNvghADXlOkMPKdmcxYzIU8SD0dn4cRWQF/ML9/pS3ji2UZglpCXJ1+e2AAgnLVaCcyN0fnavcm9GROzKmouGF5G+x14gE2M/eA9rjzrw7gicP4hziwaOkdaiEGM6zG/uc4R35mrFIAfLfJULh0uOOIappIcn33PMdFl073f4NLPKgpI/iWmIxLelHw83extGHEU/7UkPNB45pUwdKfXPI5S1kzanZbxY5Ykiuk9xXX1B/hdWydqNK4vrifOadvRlYdt3/XORdXR2lkh25S2OWovFhyGiDf1SVM1583LechY2uua8nVGHcYwdjj/KQABUGOFSsnbhdK5y1jlRvtyL+4dWj1WBEchVZLh2X3RRdplwfwT1lhqN6oc+kcXV1ytRNkwrRjASUi1YQkzzSidFG/OYl5aIpo1LtOrqayfwWlRxvVk9HibADYzWiFKOLIdG8OpzznK7d5hym3XMCxWX/YrFiqiILLLvD0JZSHgfcxN3FVGGBZTTsqVyiu6KKI1L3T02s1cbc051BHfTRhS6rouChxaQoYBlyTFulXSbdr9yAHZc9XOBxZHehM+Sr8+tLBhWBmS9V3tY+06lNvAd8xi25AuTdousiVfKThKkU0F493Nhbr8Rl6Nyh8eLHYqLiuCg3TdMfIVwUHlwcT5yr9owhSGMKYs5hvqykzVpbpB3jHO9d/JLLPv7tI+LNYyEiMuXoev/RapxkXYNdVdu3v+Fk62K3Imzi5yIU7HcK5B0t3POduFz0XQsOzzPB5m8h5+ODIS7xAU7Jm/ado9ztndVWOv3A5sgiNCM2IaxouP82FaOdwB0SncYZhMMzJ2lhyiMIonOi9qKscjMQ7t7AnFYebZvynlWFQiWeYlGjeiFxrHYMUpxM3a5dDx2z0ig5EqYEYcBjeyUF7Cw3s83kXT4cyd3NmiWKC7RV415ihOK14pvitqiv+MCQhZ8j28re2Ft/3+wEV+JwIz8iQyK8py7HiB013M9dnh020sb7Y2WeodyjH2IF5TMzH1KNXhodBB1qnFvDTGUyoweiOiNHoULqF0Bez34bAp3ZHP+d79xKHi8FquShYoji06JQJxaA6tnYnamcCRGWyMqBRXHgpAVivaWXa4s2nU2JXjuco52jHFEIiir44jdij+K04q2jJ/VnygEYSN3PnN6dwZz2Xh5W/T937HCk+SKlImHpALxIz0rSagp5xS4IIEWk9bOmF+fCNQF+cX/YB0aYex3QnIRMDfWmb2xoQeL/Yn6jTnHyRKtN0I4LSz1J2whGyOpNutUsV2rW4NPyCUg2KuUJohdmL+6OLtcttXpcisiOYAUngmaLf9HZDFDAr74KxffHk74i8tmyuPjHu/z5pDlG/X0DM8dUCJZC7rmOsxTw7PZFgdCVXp2uXW4YbAYK9B8nmOZkLAo2bUK8iViEW7nzcfAu9DEYtqd+GkcSz7FSldLYkM3L2cO8O6v6FnwkPI88if5hAR/BEb44fDT9b0C/hT1KmMz6ykiFEDxKcv5s0OvWLRcxTXrkxo/L8Uo/yJ3JkIgqgXo5tLZYeJm6GnmQO+FBa0Xlhp9GN4aHxWRB5cB1A51I24rgCckHZ8NAvJkzXCvLba+46cdkkP0S7VCPyfZ9BOwSYoPje2wAOKL/QcRiydHNVYk1wQ99uACfRnxIlkeHxCN/UDtON/+2bvlgQMCK39CkTlKGr7++e5O46/av97N/rcnXjkdL5AUufff3YvKB8TZyIDWE+64AokHSAIj/1L+NPiX6ADckuNY+jAPOxvJKktDt1FtP10Zr/sI8/T2rvKW5wznpPaPCMgNUgeZBBcL8Q+MBpvuStmy2bPo5/AO9CL84gdNDggL3AdXBkwBM/sm9yDxE9+jzQPRKOxODCIhEjA+Okw+ZDJuFRn4kuPP2lnctedW/agSzhzzG8wQ6v7g7afgDNe41/XlnPjUB4wPzxJvE8ENKQOS+9X6G/zk/d0BmwcwDqQSfBSBFS0UmxRhFtAS6QWv8j7lUuUK7MXynv2UDjQblxOd/UHqqOJr4bniM+2w+/QGlgwgDtMM+gkYB8AHtA2qDmEEDPI/5Qnqq/c4/zsBLwsEHDQgMhAh/y776fZe7JXpA/f3CcsVshvXIrQjfQ2X4p68X7Kdwa3aLfIkCXQdlSWZGmoD/PDo71/9HQ68HWgoji30KDgYbAI78qHt4PJg/HoCdAJAAB8CHwfjCHoESgKIBxwL5gQF/IH8ngIE/+LuzeFz4dbsp/kNAbEDWQLw/Fvyp+c+5cPwugVhHNAs2TGbLIAfCwsK8g3g3OHH86UGQhC+EwAaFxwLEU4CNf8cAy4EPfyZ7+PqVe9K9zr8fv3H/A7+1vv39Wzus+Sq32fhnenn9doGuxsYL/Q39TRmLOgdygXu6lvXgNXm5Nz7eBT0JQEvNC2kHlUJH/hC7k3p4uiw6W7qhe7X9mT/twZfCMADcv3e9UHwz+pn5Z7po/e3BUQRhxw8JMAjRxhDCYABlP1e9Ozoqecx81P9/f4YBeoW/SasJU8UewAw89HoZ+B04x/24g1RGUATmAdy/mHxS+Fn3LnpRP9lDmsXMCIYKmYl1BeND34S2ROHCgH9o/Jk7bTpX+PB31Tj0ug47RHyvvnb/zMCyAPNBUEGyAYeCM0HeAn4DLYM4QXD90jkh9b51AHhrfTTBAoPLhhjIhknQiMHINAk2yhqIoISQQJa9H3nbuDM4V/s5foLBK0IwAu1DOgKygXBAjEE1AeBCZsERvqN69baEtCuzarVNeT27W3xZ/FL6xnnGfciD5QkNDxlStpJy0C+LY0SdvYJ3K3QM9Sd2CbjE/kXGM4xxDH/I3If+hzaDur7fPP6+isBBPjt7EPqbe2M7k7rzO5E96b71wAxCTMLgAdW/H7wL+MozbS5Qa45tOXngjJ1ZuZ39HJhed5YogAgqFqIHYvJiieJJqHr4gknaWOhdqt0OHZIcg9HpAWU2UzH1Ma0vtbFY+piFC4w6zwlOU4wlh3a/njrpOiD7yP8Lwq6EN8DDuSowA6e2olNi+qI05lLAYVpeXZJdYR0rneSUpDUYYwqi/SJVIs+iO+lkAmba6933HO2dhB0pnXONxrHX4tFi/eIvJgz0WwXhkeyXr1Z9T8qIH/1stzp4OvoMutu4qnYytwi4qviD9hvxMW5KrGQomCtveu7Qz502HVWdOl3w02n3wmRLYkPizOKmYo4t2EqGXTddKB1JnXcdYNpLgR/lVSJJosNiwytft3PG6lRyGOLVQ5BtC7ZDWXsFN9+2rbY+OK1+lIQ0xGVCe8AeuiyxDGlxpERiaiU28sbLRlvPHdscwt5slY05QmT9YmZis+KTom5mdH/6We3dlp0SHY3dMN0wy5DtZCHrIuKifeMycAPFuBPdWgYdT5wEUTbEo/t8Nnt2AreLPSOEoUh9CBzG8kQE/sP1YSvUZLfiNyLWIiiqzIKGmI5eOxyZXhUZbIEfaAziU6KnosFiMmyZCcvc/t0GHZYdNd2PWnPHMS+oIokjCSI95mb0z8O8D5cW4Bs4GS9PnsPe+uN1//NmNKd8FISWSr7No84iiGX+ty7TI7hiVuLFYkQkSvAmf7nVWZ4A3Q6dXp2gkVa0H6STIcLjnqF6aipDgZeHHdBdYt0ZXdSWegczO19sNiMJ4kvo8XHs+ZKGPhB01syX7ZOWDJpEz4DG/7I8yX5qBFsJf4mJhWVAybsa8GXmuaLYopkjyKf57jg15/y8yB+VF9n928qZjgyi/HpweCnSpOqjLm6eP0qJc0yekqnbPd1EGXcVGJPDi5P6oirIpskpt+07ttvFRVHwFWcSpE8py29IU4aJxPnD1UL/QAS8tndG9HDy0jFn7vttvW4zrqcupHHkdVN1ZvUyeU7FXlCBmWmds9xTD4u/oXUbaUTisaPocRs8sEBkSC8VbZ1PnT4dqxrjkFX/wfANZiuiTmUR8aPEYZBtU5wXV5r1Ft6Oj0XgfeH4LTT49e/6LnyMfWn9xP3V+nb0Vu8Kavjn0qit7ZC0mLqSACDEmEplD8qRYNITz8jHKn/oOqJyhOz+bfI0bbWXs8A6dko+WW+d4ZzX3gWXoUQpswfpQ6bQ7T86eEeFzN7PEFRDVhPQEggUwVE6UnMG8Pk0vPg2+JD6h/5PQJJ+nfpct4yz7C6NLB7tZHDH9Ir35LxxA+3MNdKT1x6XLU4Hwqx5Dy7rpXIlp23itOB7u4b/Ft8d4t0rXXOdGlPcwmTza2oNKbXtXvWOAD/Hws30kwDWLxJIyQq+b7SS7JLqAS4QdYJ+IEXzy65MkgZ+/Lm1k3FnroysMiwy8Sz2+rp+uxN6q/znArYGfMkaTUhPUAxsBdQAhDxKtp4zzHVnNxL6L4JBzkCYFtzB3ZAbjhP8RtD44K9J7O9vGbXyPYzEJ4o8T6YOnEc8QHd7jXbpdCC1bTiruwb+XAKphT/ExgIQ/Mt2p6+Y6swsD/Ccs2W0/Tfk+c44bTmpATVJ5hKTmk5cGZcoEIGI6vz48HRqeqr6rdk1okKpk9FdRl13nQwdkRYYRK509uvF6rgt9nV1f4lHvwkYxj3AlXlN8myvaPIy+Db/LAUch3rHCAa4A9IAWHvztxNzFPAt71vwgnJsdX95SrsE+c74WvwYRK2L6hMN26Vc+ZTiCPX8hXOHbOCstzHjuHsAEI0fmkMd0B0+nbIZ5M8bgxy6RLSrMEEvPXC1ND233DxrwF3/7/vBeWa4RXkpO3Q+eIF/A0xEoQaox6YE3P8X95Kwxavc6OJrI3FX9s/7An6z/1X+qL7zAkBF6kegTc1UIdDFyasHDUb/Qih8hzxbvfE8nf0Dw4uM1lIvUusVIdb1kZvIOsFn/zi7FHS6MJfwJK7VbLnrYy2qMjk3ur83R2QOCRNxFOiRTUovwVA5jbJlba4sm+3I8AHzfveFvIgAe0LbQ5J/Vvg1NMD5dsEPCN+PERMN0i8N3stASoIHiMMjwPqAZ8CAgWQEKYk8iuBIeYWhw+4AIvvoPDOAYIEC/Zt7OLoQ+Ap0mPIGsbTw/XBVctg4+wCaR9SN8xM/lekVEJD6SbhCE/plMsHuCyu3K34tLXCxNem67H5cwdbFD8ZIRJ9B8kBzQDoAnsMYSX/RbFdrmZRaJFf2UQFJ7MQafWR0kK6DLYWvHPENdYf8NkDjxBoHGImtymGIJcMLPV92Uq9Ba9csBK7Ic5z6JUGQx8GLqU5WT86PK812Sl6Fx8EGPKk4CDU6M7izc3Sj93+5ubpBOmB6EjsWPf3BFwT2iA4LgI/nlAxWiNaXVOdQ+4vZxlj/4npXdxm0sTMz89+2vXpBfa7/Cr/g/4V/ff5D/QG7aDlItxf1fvXYuSg83IAtg8ZHnol4ymUL/MxtCndGmoMkwKB+Brs2eUm56To4eQG4dLd89bOznfLDNL/4xT/8hwMNUNEM0uHSxFL1EpRRMU3YSmxGZ0JgPgB66vly+CG1ynPP83Rz2zTRt1s7bj6swLPBT4DdAFCBP0G/gSM/mX4a/SI8IHu+/EZ/HkLBxm6H4AkHShiJn0gBBY+CV78cfF08An0Q/Cg5e7ZHdNSz0TL58uj1InlkfzCFygyMkX8VDdgm2F4V+5AWiQCA4zhJcrnwM7CIcvn1wPqkft3A6YFUwhQDKQL9gOy+9X1FvCy6zDpL+l26jXr/u9S+5kILROJHE0iIiVIJFYfuB30HRAdNxmVEKMGJfyU7QXdkdCNyETEaMSLyiDVg+PC9KEDThRfKuE8t0UdRow/XzPtJU8blxInCVH/sPcq8o/wQPCt60Xo6uUe4WfgVeWm60nzGPu1AKEF/gcBBzoDKP7a+VHzUPAD+OkEig/VFt8b7B6oH1ogWCKEIUEcZRObBhX2k+bJ2nDSrs2QzObQedjH3qLjA+pQ8lb8tghpGJco5TTdOiQ97zxPOcQybCeXGWsLJ/7k8oHnB9oV0GfPv9U23UXlSvKcAH4Mhhc7HdYZhhCEBW36TO/P5BTgreJu6qD3PQZOFDwfnCW8KNAoXCJdFlUMzQNU+VLvReuK6nzlmNyV1X/TQdXV1sDZWeGU6N3vYPzHDXwhPzIUOgE7gTosMxkpOSLsGrUSagcd/R73jvWh9o70XvDy7B/oHuWM6GzvhvnWADAD/QW4BhMHLAaKAZD7+/Xe8ZvzG/sKBOAOJhhRHw4kjSNKILobDRLEA072setr4onaKtaC1UXYvt3a46/mCebR41bh7OK464v6eQ1YH0IsKjmfRXxLekwcSiE+CSqBFTYANuom2DPMo8WlyPzUauT+83YElRK+GPUXkhNUDrkHewCW+m713fGK8HXxyfehAAwIAg53E4MWhhUuFBIUcxP7DVUEZ/qM8IznauT65r3ogOWt33/b6teN1P7Undk+4k3xpQP/GcowAT8nRpJKAEsURPI5di10G9EHV/Ze5wremNki2Kfa9dyT3E3ct+O38koBsAzrFLQZNBh7EDMHpgAu/+gAcQE5/wD9a/3J/6EEOAxNEwEWjBUEFq0SOgcz+8XzUfD/7lHqD+Jt3BbclN3U31/iaOQW5tDo6e4P+9QMnSAuNf1BJEQVQSY7EDPlJ9sbwg+gACfv2eDz1/jRz84t0erZD+S97ef5mwfSFbkg8SQHJOkcWA9cADv1Hu8Y63/osuys9pkAdQpzE3AYPRnpFIwO7wgVAyz9vvYx9Ojz9PDQ63jmNOIc4bHg2N9M353dGN+A5TLzJQcJH5E17ER/TJpMIkUINgMnJBkLCrT8Se+g4zHeqNwJ2qTZ7d7G5JHskvduA1INhhUCG4cZxhGYB1P+YvZW8ZLuTO6x8a33r/7yBhESZB0TIkgg8R0qGrgRMgdL/XX0HO3j6Drow+UQ4WDbM9jZ2RbbxNzt4snrY/f3B2ga6S1dPOJCFkXjQT84HykuGhMNJv+c7qve/9TU02DYY+CS6g3z8ffI/CgGexD/FjAYMBdGE0kKbP+V9o/xhe/U8E31uvpkADoIOA9rEb0PqQ3ADecQtRNiEXMJqgDW+LzwI+lj42bgyN5o3tzhE+o28V3ze/To+uQFEBPaIQctYzHcL20rWib3H3AWhAlZ/evx7+Wd3xHh7eVW7C70Q/sOAJwFHA54FhwadBlYFU0PgQnKA0/92fUh79boSOXM6MLyqv1zBnIPXhn+HW4dWhkoEVoHGwBh/BX4IvQX8OLsKOoq50bmi+fB6THrgevY7PvxIPtaCJ0Y7yY4Lq4v1S1aKaMiEBvMEkYI9fpv7Kziid653ereteNC7ZT32f/pCH0SYhbwFfIQ3gsaCP4BB/ws+Nr4mPh99a7zu/Wa+Pz5Gvvw/O8B5AZiCyIPdhCQD68M4AjRAlv7uvME7DLlm+F44SrjJOZ06V3umvZWAuYNGBkPJWkufzKDMLMr3CTJHDcUlgrq/ujxIOeb4KfenN8l4zHp6/EQ+jMAhwbMDI4Puw6gDNAI1ANJ/2r7GPdb89LvQ+2r7LbtBfDt9JD8bAVIDZQRLxPtEZgN3wUu/Tf0Geu75vnlWObl6Kru8vaw/8EJ2RNeHWcmGC70Mh8yoivnIjsbbRPECtgBF/ox887ufe3l7Zfvt/CR89/2c/if+M35Qf02AIECIgMpAXX/n/3p+ErzHOyB5uXlZemF8H742/9PBjsLXQxXC88HMQLJ/Tf8Nvt/+n79IgBsArAGRQmeCYgKcgo5CWEJDwrsC5kOXBFLFFsW0hcRGHQV+xAyDfcKeQrsCBQHLwWdAIT4xu7t6Krl3uRH6NztR/Ma90L6u/wx/1L/B/xh+nf7nf1H/+j+HP04++f4Pffj9aP0IPV59rP6awELCasPsBQrFxUWiBQqEhMQ5Q5bD3APUw72DLUKoAgDB1cHmwf5BqAGNAcwBwMFwwGu/kb76vZM88PwVvAE8RHxPfIw9kz6M/3i/TT6IPV78XvvYO5E8HPvdeqG6HDrtvK9+2UH9RKNGUAcPR6JIFggNBpaELMEY/so+GD5kv20/7kBEAZ6C3sQuhOtFHcSfg7DCoAJ4whFBgACPv77+7r64vlP+Hz2NPaA9xX5pfuF/oD/bf+g/2ABSAMxAhUAI/8d/cv5WfUH8XTu7O2k70n1Rf3IAgEGQAffCUEPOxT4EqgNZgdDAeP+bv5m/7cBHQiZD1sTPRSJFG0UjhEoDBIHIgJ6/db5m/k5+4z6lfpw+679jv+FAEEAi/18+iL4ePUy8k/wqe/F8LXwne4B7pnvdfKi9Qj40PkI/Wz/ZQF+AsMBFwIGBocPARrVIJQiSyF2HjQZxRIsDK0ECv6G+QX2xfPh86X19fd8/HgBEQYeC/4NHA1QCXUGdQZlB44GiQUxBG4A0vuW9ib03PJk8QjyrPTa9l/4sfvj/iACKwXUBpcHCQe/Atf9yPn69y35e/nN+d34qfgU+hz7gv3u/9UB+gOtBhYLlQ56ERATKhIuEaIRXBGqEOsQgA8nDl0L+wYbBAkCAv/2+x75s/YI9ejygPHO8Lzvv+7w7ufvOvGJ8uXxcvAw8AzyGfRo9Z/40ftU/bT+wP/a/1X/Wv2k+tb5H/2hABYEyAczCjENQRFIFugXBBYFFHUStg5PCVAEaQDr/UL7F/sl/qYChAeTC9QOrBCxD/8L/gfvA6UAavy59snyRvJY9fz3k/e+9ub3Gvso/mQAJAMuBJEEzQY6CG4H8ATNAMr71fZN88PwHvDz8IfxLfIU8/H1A/tKAOEEFAg5ChIM4w2tD7AQURHAEDcOIAs4CPYGYQjaCWQLTAtuCDAHNQckBVUCvwBa/tP7vvtd+xP5cvd699n2xPUo9XXzSvJl8kLzSvQs9RX29veO+6P+SAEeBBIGxwYUBykHFweuBToEMgMZAev+Qvyq+oX7ov5CAYkDWARwBPIGtQqgDdYNAQ21CyYLNwvJCYcHWQWQAxoCRgCz/qb9r/w+/LH9u/8gAhgF/wbDBnADTwCJ/0z+uvuI+rv5EPmQ+sb8Tv6b/83/RP+Y/1gAigITBiQJLQlLBmoCdP7c/FH9Ev40/Sr7D/pF++v9rf91AXMCDwShBkwJ3gyED00RmBJ+E30TexD3CtoE+/89/un9nv1m/Uf72/YW8x3ycvLd8hH0Nfbb9473svbw9nf4KPtq/af+jP24+Vb3J/nO/VABWwI6Av0CHgVPBg0GFgYZByEI5wj3CE0HDgQlAYEAhgGUA58FdAeoCSELDws6CRwHhwXCBeMGIwYRBKgDbgUbBssDoQBX/dX6X/rR+sn7A/xc/I39fP4L/3r/AwG0AicCwQBr/1f9V/xm/Lb6nPl8+RD6bPvb+637NPvE+hv7Yv5SAYIDAgayCDsLsAtJDIwMDgtwCD4GigT2BEEH7wdEB3MGHAU6BG4F9AbXBjkHDAgVBrgCmgBXAeICqwIiAWn/af0c+4P51vdL9UrzAvPj8dnwdvJx9IX2evi6+x3/fQDiAuYDowNkBbAGJwXvA28EeQbLB60GCwbWBnsJ8wveC48K6gh0CPsJXwqsCPAFtwLlAAwBRgGuAA8AHAC1ADMCDAQrBTID+f/t/nf9a/t/+o/6v/g99+P3v/jP+ir9hv6A/gz9sPv9+uP6Cvwk/Sj+4/6W/X/7RvsZ/Z4AkgPWBD0E9gL4AtkDFQWGBVAGXgfMCiYPpxC6D1cNVAv3CfsJkwvRCz0KiwjUBmsEvQFDAZYCmwTKA84AFP6v+z77tPo2+Sf49/cj+VD7jfxe/Z39Vvth+I73qvdX+Ib6JPwX+8b5avmO+s/8wv7J/w8AZAIYBGYEygR9BTQHnQkDC1QKlwmqCesKfQoBCIwGngWdBGcETAXJBcME9gJcApsCXQOvBHcERwRoBd8FXQTUAFb9IvxF+8j4UvZg9PHzhvSZ9TL3hfht+V/6Xfw3/r3/pgEJBU4HGAeaBWkE+AR/BUwFJQOhAewBIwNVBR4HrAh5CU8IXwZxBeYEEQXsBBwEoANXBLEFfQZWBY8DiAIGA6IFbwY2BbYCbgGWAW0CVQIHAdL+rftO+1/72PuO+yD7Pfq6+L342vg5+sX7hf74//D/0P7z/A/+rf/yABoCqgL8AmoDgQNCAyIDpQQNCBYK8wq2C+sLmA31DT0MxArNCfIJjQdmA5IAb//K/zH/Zvye+Pj1ufUR9274wfgR+eD5bfnA92z2EPdQ+kv9wfw/+eP2PvcA+bf78v0j/3v/jwAQA3kFGAecBysI6ggHCRIJvQhgCCQIMAemBQcEEQTrBWwHcgfMBtUFsAS6BIEFfQY6B6MHwgjXCPUH1wafA8wA0v8s/lv8NPuy+un6ufpq+Q34jPcz9zH29fQo9dD29Pgs+yH81vsf/BP9vf0P/5//GwHuAogCjQEHAEkB9gOdBjwJVwooCrsJ+AnECt0Jnwf1BhYIHgvQDNgKkAcbBgoG9gacB3gIpAmVCJgFbwG//d37lfus+/n5OPdI9XT0EPWK9xf6GfsO+7z5n/mC+Rn5lPo9/cn+Tf5D/Ij6O/uL/RkA+wGQAnEBNAHFA1cI8AqWCScHggWTBNgE3gQVBZgEvwPKBYwHyQfVBmIE4AFZ/8H8tvyC/lUB7QPiA+ACBwEdAMD/5v3W+zj7+Pvf+6P6Bfnq+GL6//lq+H35ufvK/eT+8v4S/8D+Q//W/5//nf0D/Dr9b/+rAooEWwM6AjUD6ARnBdYEJAOXAssEhAdgCHEGsgPmAncEjAfHCvILOgvMCCYGxQQTBOID+AJXAVf/p/wO+6P53/dE9mX0qfUg+FD5Ivus/Av+2P5L/Vz74voE/IX+oQBqA1cFBgXhBD4EdQOfAo0CfwN5BEoFsgT4A0UE0gP7AcEBvwLEA4kEHQW/BHIDnAMjBDgFxga0B+cGKwXvA1gDlALnAEH+5/qs+OD4I/nx+Oj5hPuj/uv/lv/D/67/KP99/Jj4MvYW+Iv87P7u/tb9s/0c/rf+sP8//0T/wQC6AyAHEAi6BwoIYQfrBjYGNAQfA28C9wAAAAMAlv9z/q78WvqU+BP4Kfh89yT3iPhh+kX9ff8qAGAASAHWAv8BJwDL/53/jf4G/Wj8XvyY/KP+3/93/zz9R/ws/v7/bQH1ALz/Tf/k/+wBVwQRB10IuwcWB5kFswMRAv8BqgJ+A9QDpwNnA1cDoANTA6UC6AC8/+j/AgEqAcT/K/2m+nf58/kX+/r7Jvxu/Dr+BgDTAeoBegDs/UP6jfhd+fz7F/8FAYwCQgPyAyIGOgeWBvAElQMiBMME8QOdAn4BOQHzAAMAZ//6/on/yAExBO8F5wasBsgGUQgoCMkGzwUaBYMF3gPCAHX95/qk+tb8Wv+TAVACggCi/yP/3f4Y/Sn8z/s5+wb7jvo4+k76JP0//y7/jf0F+vL3wvnZ+678Ev3V/az/LgLxA/ID6gI4AsQCOwP/BIYH0QnbCT8HDQV6AywDhQInAQ0BPgIQAzYCXwAG/+L+mf/3/8sAqAJUAzoDJgT/BQAHEwd0BnAEaQLDAPT/xP/I/77/rf/9/xX/Uv3h+6n7xvye/qP+BP40/v/9qP0d/mL/8P/5ANYA8wCIAoMD3gSaBZ0ERwUqBqIGMwZqA9cBQAGxAakC3QIvAsIBiwFgAYcAgQC/AiME1QORAbb/iAAFA60DiwE+/0T+m/+vANsAKwDzAHoDtASwBR8GXwZUBrgFewTWAxoEXQSfBB0EJwQbBPEC8AJxA/YDIQSbA2YDjwKrAokBo/9a/qP9GP/3/qP9DfxT/OT9Bv6z/Oj6Q/st/EL8EvoB90v2l/jK/KT/wQBYAYUBUwJ1A+8CWAFOAdgBtwJlBIkFlQVoBTEE\" type=\"audio/wav\" />\n",
       "                    Your browser does not support the audio element.\n",
       "                </audio>\n",
       "              "
      ],
      "text/plain": [
       "<IPython.lib.display.Audio object>"
      ]
     },
     "execution_count": 11,
     "metadata": {},
     "output_type": "execute_result"
    }
   ],
   "source": [
    "first_example = x_train_raw[0]\n",
    "print(labels[y_train_raw[0]])\n",
    "ipd.Audio(first_example, rate=8000)"
   ]
  },
  {
   "cell_type": "markdown",
   "metadata": {},
   "source": [
    "Prepare Mel spectrograms for the recordings in the dataset"
   ]
  },
  {
   "cell_type": "code",
   "execution_count": 18,
   "metadata": {},
   "outputs": [],
   "source": [
    "first_mel = librosa.feature.melspectrogram(first_example)\n",
    "first_mel = first_mel.T  # transpose for LSTM\n",
    "n_tsteps, n_mels = first_mel.shape"
   ]
  },
  {
   "cell_type": "code",
   "execution_count": 23,
   "metadata": {},
   "outputs": [
    {
     "name": "stdout",
     "output_type": "stream",
     "text": [
      "Done 56721/56721."
     ]
    }
   ],
   "source": [
    "x_train = np.zeros(shape=(n_examples, n_tsteps, n_mels, 1))\n",
    "\n",
    "for i in range(n_examples):\n",
    "    # extract audio recording\n",
    "    rec = x_train_raw[i]\n",
    "    \n",
    "    # convert to Mel spectrogram (transposed for LSTM compatibility)\n",
    "    melspec = librosa.feature.melspectrogram(rec).T\n",
    "    \n",
    "    x_train[i, :, :, 0] = melspec\n",
    "    \n",
    "    print(\"\\rDone %d/%d.\" % (i+1, n_examples), end='')\n",
    "    \n",
    "# save data to disk\n",
    "np.save(\"data/mel/x_train\", x_train)"
   ]
  },
  {
   "cell_type": "code",
   "execution_count": 31,
   "metadata": {},
   "outputs": [
    {
     "name": "stdout",
     "output_type": "stream",
     "text": [
      "Done 1000/1000."
     ]
    }
   ],
   "source": [
    "# do the same for validation set\n",
    "x_val_raw = np.load(\"data/raw/x_val.npy\")\n",
    "n_examples, rec_length = x_val_raw.shape\n",
    "\n",
    "x_val = np.zeros(shape=(n_examples, n_tsteps, n_mels, 1))\n",
    "\n",
    "for i in range(n_examples):\n",
    "    # extract audio recording\n",
    "    rec = x_val_raw[i]\n",
    "    \n",
    "    # convert to Mel spectrogram (transposed for LSTM compatibility)\n",
    "    melspec = librosa.feature.melspectrogram(rec).T\n",
    "    \n",
    "    x_val[i, :, :, 0] = melspec\n",
    "    \n",
    "    print(\"\\rDone %d/%d.\" % (i+1, n_examples), end='')\n",
    "    \n",
    "# save data to disk\n",
    "np.save(\"data/mel/x_val\", x_val)"
   ]
  },
  {
   "cell_type": "code",
   "execution_count": 33,
   "metadata": {},
   "outputs": [
    {
     "name": "stdout",
     "output_type": "stream",
     "text": [
      "Done 7000/7000."
     ]
    }
   ],
   "source": [
    "# do the same for test set\n",
    "x_test_raw = np.load(\"data/raw/x_test.npy\")\n",
    "n_examples, rec_length = x_test_raw.shape\n",
    "\n",
    "x_test = np.zeros(shape=(n_examples, n_tsteps, n_mels, 1))\n",
    "\n",
    "for i in range(n_examples):\n",
    "    # extract audio recording\n",
    "    rec = x_test_raw[i]\n",
    "    \n",
    "    # convert to Mel spectrogram (transposed for LSTM compatibility)\n",
    "    melspec = librosa.feature.melspectrogram(rec).T\n",
    "    \n",
    "    x_test[i, :, :, 0] = melspec\n",
    "    \n",
    "    print(\"\\rDone %d/%d.\" % (i+1, n_examples), end='')\n",
    "    \n",
    "# save data to disk\n",
    "np.save(\"data/mel/x_test\", x_test)"
   ]
  },
  {
   "cell_type": "markdown",
   "metadata": {},
   "source": [
    "### 2. Train on dataset"
   ]
  },
  {
   "cell_type": "code",
   "execution_count": 6,
   "metadata": {},
   "outputs": [],
   "source": [
    "from tensorflow.keras.models import Sequential, Model, model_from_json\n",
    "from tensorflow.keras.layers import Input, Conv2D, MaxPooling2D, Dense, LSTM, Embedding, BatchNormalization, Reshape, Activation, Dropout\n",
    "from tensorflow.keras.preprocessing import sequence\n",
    "from tensorflow.keras.optimizers import Adam"
   ]
  },
  {
   "cell_type": "code",
   "execution_count": 7,
   "metadata": {},
   "outputs": [],
   "source": [
    "y_train = np.load(\"data/raw/y_train.npy\")\n",
    "y_val = np.load(\"data/raw/y_val.npy\")"
   ]
  },
  {
   "cell_type": "code",
   "execution_count": 8,
   "metadata": {},
   "outputs": [],
   "source": [
    "# define CNN LSTM for speech command recognition\n",
    "def lstm_speech(input_shape):\n",
    "    model = Sequential()\n",
    "    model.add(Conv2D(input_shape=input_shape, filters=16, kernel_size=(3,5), padding='valid', activation='relu'))\n",
    "    model.add(MaxPooling2D(pool_size=(1, 2), strides=(1, 2)))\n",
    "    model.add(BatchNormalization())\n",
    "\n",
    "    model.add(Conv2D(filters=16, kernel_size=(3,5), padding='valid', activation='relu'))\n",
    "    model.add(MaxPooling2D(pool_size=(1, 2), strides=(1, 2)))\n",
    "    model.add(BatchNormalization())\n",
    "\n",
    "    model.add(Conv2D(filters=32, kernel_size=(3,5), padding='valid', activation='relu'))\n",
    "    model.add(MaxPooling2D(pool_size=(1, 2), strides=(1, 2)))\n",
    "    model.add(BatchNormalization())\n",
    "\n",
    "    model.add(Conv2D(filters=64, kernel_size=(3,5), padding='valid', activation='relu'))\n",
    "    model.add(MaxPooling2D(pool_size=(1, 2), strides=(1, 2)))\n",
    "    model.add(Dropout(rate=0.3))\n",
    "\n",
    "    model.add(Reshape((8, 4*64)))\n",
    "\n",
    "    model.add(LSTM(100, input_shape=(16, 112*16)))\n",
    "    model.add(Dense(30, activation='softmax'))\n",
    "\n",
    "    return model"
   ]
  },
  {
   "cell_type": "code",
   "execution_count": 9,
   "metadata": {},
   "outputs": [],
   "source": [
    "def savemodel(model, name, model_path='model/'):\n",
    "    \"\"\"\n",
    "    Convenience method that makes it easy to save a model\n",
    "    \"\"\"\n",
    "\n",
    "    model_json = model.to_json()\n",
    "    with open(model_path + name + \".json\", \"w\") as json_file:\n",
    "        json_file.write(model_json)\n",
    "    # serialize weights to HDF5\n",
    "    model.save_weights(model_path + name + \".h5\")\n",
    "    print(\"Saved model to disk\")"
   ]
  },
  {
   "cell_type": "code",
   "execution_count": 2,
   "metadata": {},
   "outputs": [],
   "source": [
    "def loadmodel(name, model_path='model/'):\n",
    "    \"\"\"\n",
    "    Convenience method that makes it easy to load a model\n",
    "    \"\"\"\n",
    "\n",
    "    json_file = open(model_path + name + \".json\", 'r')\n",
    "    loaded_model_json = json_file.read()\n",
    "    json_file.close()\n",
    "    model = model_from_json(loaded_model_json)\n",
    "    # load weights into new model\n",
    "    model.load_weights(model_path + name + \".h5\")\n",
    "    print(\"Loaded model %s from disk\" % name)\n",
    "\n",
    "    return model"
   ]
  },
  {
   "cell_type": "code",
   "execution_count": 38,
   "metadata": {},
   "outputs": [
    {
     "name": "stdout",
     "output_type": "stream",
     "text": [
      "Model: \"sequential\"\n",
      "_________________________________________________________________\n",
      "Layer (type)                 Output Shape              Param #   \n",
      "=================================================================\n",
      "conv2d (Conv2D)              (None, 14, 124, 16)       256       \n",
      "_________________________________________________________________\n",
      "max_pooling2d (MaxPooling2D) (None, 14, 62, 16)        0         \n",
      "_________________________________________________________________\n",
      "batch_normalization (BatchNo (None, 14, 62, 16)        64        \n",
      "_________________________________________________________________\n",
      "conv2d_1 (Conv2D)            (None, 12, 58, 16)        3856      \n",
      "_________________________________________________________________\n",
      "max_pooling2d_1 (MaxPooling2 (None, 12, 29, 16)        0         \n",
      "_________________________________________________________________\n",
      "batch_normalization_1 (Batch (None, 12, 29, 16)        64        \n",
      "_________________________________________________________________\n",
      "conv2d_2 (Conv2D)            (None, 10, 25, 32)        7712      \n",
      "_________________________________________________________________\n",
      "max_pooling2d_2 (MaxPooling2 (None, 10, 12, 32)        0         \n",
      "_________________________________________________________________\n",
      "batch_normalization_2 (Batch (None, 10, 12, 32)        128       \n",
      "_________________________________________________________________\n",
      "conv2d_3 (Conv2D)            (None, 8, 8, 64)          30784     \n",
      "_________________________________________________________________\n",
      "max_pooling2d_3 (MaxPooling2 (None, 8, 4, 64)          0         \n",
      "_________________________________________________________________\n",
      "dropout (Dropout)            (None, 8, 4, 64)          0         \n",
      "_________________________________________________________________\n",
      "reshape (Reshape)            (None, 8, 256)            0         \n",
      "_________________________________________________________________\n",
      "lstm (LSTM)                  (None, 100)               142800    \n",
      "_________________________________________________________________\n",
      "dense (Dense)                (None, 30)                3030      \n",
      "=================================================================\n",
      "Total params: 188,694\n",
      "Trainable params: 188,566\n",
      "Non-trainable params: 128\n",
      "_________________________________________________________________\n"
     ]
    }
   ],
   "source": [
    "model = lstm_speech(x_val[0].shape)\n",
    "model.summary()"
   ]
  },
  {
   "cell_type": "code",
   "execution_count": 43,
   "metadata": {},
   "outputs": [
    {
     "name": "stdout",
     "output_type": "stream",
     "text": [
      "Epoch 1/30\n",
      "WARNING:tensorflow:AutoGraph could not transform <function Model.make_train_function.<locals>.train_function at 0x2b7eaba60> and will run it as-is.\n",
      "Please report this to the TensorFlow team. When filing the bug, set the verbosity to 10 (on Linux, `export AUTOGRAPH_VERBOSITY=10`) and attach the full output.\n",
      "Cause: Bad argument number for Name: 4, expecting 3\n",
      "To silence this warning, decorate the function with @tf.autograph.experimental.do_not_convert\n",
      "WARNING: AutoGraph could not transform <function Model.make_train_function.<locals>.train_function at 0x2b7eaba60> and will run it as-is.\n",
      "Please report this to the TensorFlow team. When filing the bug, set the verbosity to 10 (on Linux, `export AUTOGRAPH_VERBOSITY=10`) and attach the full output.\n",
      "Cause: Bad argument number for Name: 4, expecting 3\n",
      "To silence this warning, decorate the function with @tf.autograph.experimental.do_not_convert\n",
      "222/222 [==============================] - ETA: 0s - loss: 2.2953 - accuracy: 0.3124WARNING:tensorflow:AutoGraph could not transform <function Model.make_test_function.<locals>.test_function at 0x2ae1368c8> and will run it as-is.\n",
      "Please report this to the TensorFlow team. When filing the bug, set the verbosity to 10 (on Linux, `export AUTOGRAPH_VERBOSITY=10`) and attach the full output.\n",
      "Cause: Bad argument number for Name: 4, expecting 3\n",
      "To silence this warning, decorate the function with @tf.autograph.experimental.do_not_convert\n",
      "WARNING: AutoGraph could not transform <function Model.make_test_function.<locals>.test_function at 0x2ae1368c8> and will run it as-is.\n",
      "Please report this to the TensorFlow team. When filing the bug, set the verbosity to 10 (on Linux, `export AUTOGRAPH_VERBOSITY=10`) and attach the full output.\n",
      "Cause: Bad argument number for Name: 4, expecting 3\n",
      "To silence this warning, decorate the function with @tf.autograph.experimental.do_not_convert\n",
      "222/222 [==============================] - 149s 671ms/step - loss: 2.2953 - accuracy: 0.3124 - val_loss: 2.9768 - val_accuracy: 0.2000\n",
      "Epoch 2/30\n",
      "222/222 [==============================] - 111s 500ms/step - loss: 1.2444 - accuracy: 0.6250 - val_loss: 1.9482 - val_accuracy: 0.4420\n",
      "Epoch 3/30\n",
      "222/222 [==============================] - 98s 443ms/step - loss: 0.8448 - accuracy: 0.7454 - val_loss: 1.3980 - val_accuracy: 0.5840\n",
      "Epoch 4/30\n",
      "222/222 [==============================] - 97s 437ms/step - loss: 0.6740 - accuracy: 0.7954 - val_loss: 0.8298 - val_accuracy: 0.7490\n",
      "Epoch 5/30\n",
      "222/222 [==============================] - 97s 438ms/step - loss: 0.5771 - accuracy: 0.8247 - val_loss: 0.7758 - val_accuracy: 0.7610\n",
      "Epoch 6/30\n",
      "222/222 [==============================] - 97s 435ms/step - loss: 0.5045 - accuracy: 0.8460 - val_loss: 0.5640 - val_accuracy: 0.8260\n",
      "Epoch 7/30\n",
      "222/222 [==============================] - 98s 440ms/step - loss: 0.4621 - accuracy: 0.8576 - val_loss: 0.6278 - val_accuracy: 0.8070\n",
      "Epoch 8/30\n",
      "222/222 [==============================] - 96s 431ms/step - loss: 0.4228 - accuracy: 0.8722 - val_loss: 0.4914 - val_accuracy: 0.8430\n",
      "Epoch 9/30\n",
      "222/222 [==============================] - 94s 423ms/step - loss: 0.3931 - accuracy: 0.8787 - val_loss: 0.4577 - val_accuracy: 0.8580\n",
      "Epoch 10/30\n",
      "222/222 [==============================] - 93s 421ms/step - loss: 0.3677 - accuracy: 0.8861 - val_loss: 0.4335 - val_accuracy: 0.8660\n",
      "Epoch 11/30\n",
      "222/222 [==============================] - 94s 422ms/step - loss: 0.3432 - accuracy: 0.8940 - val_loss: 0.4331 - val_accuracy: 0.8760\n",
      "Epoch 12/30\n",
      "222/222 [==============================] - 94s 424ms/step - loss: 0.3296 - accuracy: 0.8963 - val_loss: 0.4659 - val_accuracy: 0.8560\n",
      "Epoch 13/30\n",
      "222/222 [==============================] - 96s 430ms/step - loss: 0.3057 - accuracy: 0.9057 - val_loss: 0.4461 - val_accuracy: 0.8660\n",
      "Epoch 14/30\n",
      "222/222 [==============================] - 121s 547ms/step - loss: 0.2916 - accuracy: 0.9088 - val_loss: 0.5051 - val_accuracy: 0.8460\n",
      "Epoch 15/30\n",
      "222/222 [==============================] - 96s 431ms/step - loss: 0.2853 - accuracy: 0.9109 - val_loss: 0.3990 - val_accuracy: 0.8700\n",
      "Epoch 16/30\n",
      "222/222 [==============================] - 95s 429ms/step - loss: 0.2679 - accuracy: 0.9157 - val_loss: 0.4388 - val_accuracy: 0.8750\n",
      "Epoch 17/30\n",
      "222/222 [==============================] - 94s 422ms/step - loss: 0.2549 - accuracy: 0.9203 - val_loss: 0.4593 - val_accuracy: 0.8670\n",
      "Epoch 18/30\n",
      "222/222 [==============================] - 94s 424ms/step - loss: 0.2447 - accuracy: 0.9224 - val_loss: 0.6056 - val_accuracy: 0.8330\n",
      "Epoch 19/30\n",
      "222/222 [==============================] - 94s 422ms/step - loss: 0.2342 - accuracy: 0.9261 - val_loss: 0.3941 - val_accuracy: 0.8780\n",
      "Epoch 20/30\n",
      "222/222 [==============================] - 95s 426ms/step - loss: 0.2244 - accuracy: 0.9298 - val_loss: 0.4020 - val_accuracy: 0.8770\n",
      "Epoch 21/30\n",
      "222/222 [==============================] - 94s 425ms/step - loss: 0.2162 - accuracy: 0.9317 - val_loss: 0.3439 - val_accuracy: 0.8920\n",
      "Epoch 22/30\n",
      "222/222 [==============================] - 94s 422ms/step - loss: 0.2117 - accuracy: 0.9340 - val_loss: 0.4152 - val_accuracy: 0.8760\n",
      "Epoch 23/30\n",
      "222/222 [==============================] - 94s 423ms/step - loss: 0.2019 - accuracy: 0.9368 - val_loss: 0.4013 - val_accuracy: 0.8760\n",
      "Epoch 24/30\n",
      "222/222 [==============================] - 94s 425ms/step - loss: 0.1958 - accuracy: 0.9377 - val_loss: 0.3726 - val_accuracy: 0.8920\n",
      "Epoch 25/30\n",
      "222/222 [==============================] - 94s 424ms/step - loss: 0.1889 - accuracy: 0.9408 - val_loss: 0.4095 - val_accuracy: 0.8800\n",
      "Epoch 26/30\n",
      "222/222 [==============================] - 94s 424ms/step - loss: 0.1843 - accuracy: 0.9423 - val_loss: 0.5046 - val_accuracy: 0.8560\n",
      "Epoch 27/30\n",
      "222/222 [==============================] - 94s 424ms/step - loss: 0.1792 - accuracy: 0.9430 - val_loss: 0.3726 - val_accuracy: 0.8820\n",
      "Epoch 28/30\n",
      "222/222 [==============================] - 94s 425ms/step - loss: 0.1701 - accuracy: 0.9461 - val_loss: 0.5174 - val_accuracy: 0.8480\n",
      "Epoch 29/30\n",
      "222/222 [==============================] - 94s 425ms/step - loss: 0.1698 - accuracy: 0.9456 - val_loss: 0.4900 - val_accuracy: 0.8760\n",
      "Epoch 30/30\n",
      "222/222 [==============================] - 94s 425ms/step - loss: 0.1649 - accuracy: 0.9474 - val_loss: 0.4209 - val_accuracy: 0.8870\n",
      "Saved model to disk\n"
     ]
    }
   ],
   "source": [
    "model.compile(optimizer=Adam(), loss='sparse_categorical_crossentropy', metrics=['accuracy'])\n",
    "history = model.fit(x=x_train, y=y_train, batch_size=256, epochs=30, validation_data=(x_val, y_val))\n",
    "savemodel(model, \"speech_class\")"
   ]
  },
  {
   "cell_type": "code",
   "execution_count": 44,
   "metadata": {},
   "outputs": [
    {
     "data": {
      "image/png": "[encoded data removed]",
      "text/plain": [
       "<Figure size 432x288 with 1 Axes>"
      ]
     },
     "metadata": {
      "needs_background": "light"
     },
     "output_type": "display_data"
    }
   ],
   "source": [
    "plt.plot(np.arange(1, len(history.history[\"loss\"])+1), history.history[\"loss\"], label=\"loss\")\n",
    "plt.plot(np.arange(1, len(history.history[\"loss\"])+1), history.history[\"val_loss\"], label=\"val_loss\")\n",
    "plt.legend()\n",
    "plt.xlabel(\"Epoch\")\n",
    "plt.title(\"Loss history\")\n",
    "plt.show()"
   ]
  },
  {
   "cell_type": "code",
   "execution_count": 45,
   "metadata": {},
   "outputs": [
    {
     "data": {
      "image/png": "[encoded data removed]",
      "text/plain": [
       "<Figure size 432x288 with 1 Axes>"
      ]
     },
     "metadata": {
      "needs_background": "light"
     },
     "output_type": "display_data"
    }
   ],
   "source": [
    "plt.plot(np.arange(1, len(history.history[\"accuracy\"])+1), history.history[\"accuracy\"], label=\"acccuracy\")\n",
    "plt.plot(np.arange(1, len(history.history[\"accuracy\"])+1), history.history[\"val_accuracy\"], label=\"val_accuracy\")\n",
    "plt.legend()\n",
    "plt.xlabel(\"Epoch\")\n",
    "plt.title(\"Accuracy history\")\n",
    "plt.show()"
   ]
  },
  {
   "cell_type": "markdown",
   "metadata": {},
   "source": [
    "### 3. Evaluate model"
   ]
  },
  {
   "cell_type": "code",
   "execution_count": 27,
   "metadata": {},
   "outputs": [],
   "source": [
    "x_test = np.load(\"data/mel/x_test.npy\")\n",
    "y_test = np.load(\"data/raw/y_test.npy\")"
   ]
  },
  {
   "cell_type": "code",
   "execution_count": 28,
   "metadata": {},
   "outputs": [
    {
     "name": "stdout",
     "output_type": "stream",
     "text": [
      "Loaded model speech_class from disk\n"
     ]
    }
   ],
   "source": [
    "model = loadmodel(\"speech_class\")\n",
    "model.compile(optimizer=Adam(), loss='sparse_categorical_crossentropy', metrics=['accuracy'])"
   ]
  },
  {
   "cell_type": "code",
   "execution_count": 12,
   "metadata": {},
   "outputs": [
    {
     "name": "stdout",
     "output_type": "stream",
     "text": [
      "WARNING:tensorflow:AutoGraph could not transform <function Model.make_test_function.<locals>.test_function at 0x16d1bc510> and will run it as-is.\n",
      "Please report this to the TensorFlow team. When filing the bug, set the verbosity to 10 (on Linux, `export AUTOGRAPH_VERBOSITY=10`) and attach the full output.\n",
      "Cause: Bad argument number for Name: 4, expecting 3\n",
      "To silence this warning, decorate the function with @tf.autograph.experimental.do_not_convert\n",
      "WARNING: AutoGraph could not transform <function Model.make_test_function.<locals>.test_function at 0x16d1bc510> and will run it as-is.\n",
      "Please report this to the TensorFlow team. When filing the bug, set the verbosity to 10 (on Linux, `export AUTOGRAPH_VERBOSITY=10`) and attach the full output.\n",
      "Cause: Bad argument number for Name: 4, expecting 3\n",
      "To silence this warning, decorate the function with @tf.autograph.experimental.do_not_convert\n",
      "219/219 [==============================] - 4s 17ms/step - loss: 0.3545 - accuracy: 0.8963\n",
      "Testing accuracy: 0.896.\n"
     ]
    }
   ],
   "source": [
    "test_acc = model.evaluate(x=x_test, y=y_test)[1]\n",
    "print(\"Testing accuracy: %.3f.\" % test_acc)"
   ]
  },
  {
   "cell_type": "markdown",
   "metadata": {},
   "source": [
    "### 4. Test own voice commands\n",
    "\n",
    "This section handles loading the model, recording a short voice clip, and using the model to classify the uttered word."
   ]
  },
  {
   "cell_type": "code",
   "execution_count": 172,
   "metadata": {},
   "outputs": [
    {
     "name": "stdout",
     "output_type": "stream",
     "text": [
      "Loaded model speech_class from disk\n"
     ]
    }
   ],
   "source": [
    "import os\n",
    "import random\n",
    "import time\n",
    "import logging\n",
    "\n",
    "import numpy as np\n",
    "import matplotlib.pyplot as plt\n",
    "import tensorflow as tf\n",
    "\n",
    "import librosa\n",
    "import IPython.display as ipd\n",
    "from scipy.io import wavfile \n",
    "\n",
    "from tensorflow.keras.models import Sequential, Model, model_from_json\n",
    "from tensorflow.keras.layers import Input, Conv2D, MaxPooling2D, Dense, LSTM, Embedding, BatchNormalization, Reshape, Activation, Dropout\n",
    "from tensorflow.keras.preprocessing import sequence\n",
    "from tensorflow.keras.optimizers import Adam\n",
    "\n",
    "\n",
    "# load and compile model\n",
    "model_path = \"model/\"\n",
    "name = \"speech_class\"\n",
    "\n",
    "json_file = open(model_path + name + \".json\", 'r')\n",
    "loaded_model_json = json_file.read()\n",
    "json_file.close()\n",
    "model = model_from_json(loaded_model_json)\n",
    "model.load_weights(model_path + name + \".h5\")\n",
    "print(\"Loaded model %s from disk\" % name)\n",
    "model.compile(optimizer=Adam(), loss='sparse_categorical_crossentropy', metrics=['accuracy'])"
   ]
  },
  {
   "cell_type": "code",
   "execution_count": 173,
   "metadata": {},
   "outputs": [],
   "source": [
    "def record(name, sr=8000):\n",
    "    \"\"\"\n",
    "    helper function that records and returns a 2-second voice clip\n",
    "    \n",
    "    name: (str) filename for recording\n",
    "    sr: (int) sample rate\n",
    "    \n",
    "    return: tuple: (ndarray) audio recording, (int) sample rate\n",
    "    \"\"\"\n",
    "    \n",
    "    if name.endswith(\".wav\"):\n",
    "        name = name[:-4]\n",
    "    \n",
    "    # make temporary recording on hard disk\n",
    "    os.system(\"sox -b 32 -e unsigned-integer -r 44100 -c 2 -d --clobber --buffer $((96000*2*10)) %s.wav trim 0 2\" % \n",
    "              name)\n",
    "    \n",
    "    # load samples into local variable\n",
    "    rec, sr = librosa.load(name + \".wav\", sr=sr)\n",
    "    \n",
    "    # normalize recording\n",
    "    rec /= np.amax(np.abs(rec))\n",
    "    \n",
    "    # erase temporary recording from hard disk and return the samples loaded into local variable\n",
    "    os.unlink(name + \".wav\")\n",
    "    return rec, sr"
   ]
  },
  {
   "cell_type": "code",
   "execution_count": 174,
   "metadata": {},
   "outputs": [],
   "source": [
    "def trim(x, target_length=1, sr=8000, hop_length=100):\n",
    "    \"\"\"\n",
    "    helper function that trims audio clip x to target_length around the onset of the uttered word\n",
    "    \n",
    "    x: (ndarray) audio clip\n",
    "    target_length: (float) desired length in seconds\n",
    "    sr: (int) sample rate\n",
    "    hop_length: (int) frame hop length for onset_detect\n",
    "    \n",
    "    return:\n",
    "    clip: (ndarray) trimmed recording\n",
    "    \"\"\"\n",
    "    \n",
    "    # convert from seconds to samples\n",
    "    target_length = int(target_length*sr)\n",
    "    \n",
    "    if len(x) < target_length:\n",
    "        raise RuntimeError(\"Error in trim: target length %.2f greater than recording length %.2f.\" % \n",
    "                           (target_length/sr, len(x)/sr))\n",
    "    \n",
    "    # find onsets and use first one as reference for trimming clip\n",
    "    onset_samples = librosa.onset.onset_detect(rec,\n",
    "                                           sr=sr, units='samples', \n",
    "                                           hop_length=hop_length, \n",
    "                                           backtrack=False,\n",
    "                                           pre_max=20,\n",
    "                                           post_max=20,\n",
    "                                           pre_avg=100,\n",
    "                                           post_avg=100,\n",
    "                                           delta=0.2,\n",
    "                                           wait=0)\n",
    "    \n",
    "    # start click sligthly before onset; if onset too early, start at the beginning\n",
    "    starting_idx = onset_samples[0] - target_length//5\n",
    "    if starting_idx < 0:\n",
    "        starting_idx = 0\n",
    "    \n",
    "    # if onset too late, just use the last (target_samples) samples\n",
    "    if len(x)-starting_idx < target_length:\n",
    "        starting_idx = len(x)-target_length-1\n",
    "    \n",
    "    return x[starting_idx:starting_idx+target_length]"
   ]
  },
  {
   "cell_type": "markdown",
   "metadata": {},
   "source": [
    "*__Note__: make sure the recorded word is one of the 30 words the network has learned.*"
   ]
  },
  {
   "cell_type": "code",
   "execution_count": 175,
   "metadata": {},
   "outputs": [
    {
     "data": {
      "text/plain": [
       "array(['bed', 'bird', 'cat', 'dog', 'down', 'eight', 'five', 'four', 'go',\n",
       "       'happy', 'house', 'left', 'marvin', 'nine', 'no', 'off', 'on',\n",
       "       'one', 'right', 'seven', 'sheila', 'six', 'stop', 'three', 'tree',\n",
       "       'two', 'up', 'wow', 'yes', 'zero'], dtype='<U6')"
      ]
     },
     "execution_count": 175,
     "metadata": {},
     "output_type": "execute_result"
    }
   ],
   "source": [
    "# load the labels the network was trained on\n",
    "labels = np.load(\"data/labels.npy\")\n",
    "labels"
   ]
  },
  {
   "cell_type": "code",
   "execution_count": 180,
   "metadata": {},
   "outputs": [
    {
     "name": "stdout",
     "output_type": "stream",
     "text": [
      "\n",
      "The uttered word is: wow.\n"
     ]
    },
    {
     "data": {
      "text/html": [
       "\n",
       "                <audio  controls=\"controls\" >\n",
       "                    <source src=\"data:audio/wav;base64,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\" type=\"audio/wav\" />\n",
       "                    Your browser does not support the audio element.\n",
       "                </audio>\n",
       "              "
      ],
      "text/plain": [
       "<IPython.lib.display.Audio object>"
      ]
     },
     "execution_count": 180,
     "metadata": {},
     "output_type": "execute_result"
    }
   ],
   "source": [
    "# record a 2-second clip, trim it to one second, and predict uttered word\n",
    "rec, sr = record(\"test\")\n",
    "clip = trim(rec)\n",
    "\n",
    "# take the Mel spectrogramm of the voice clip and reshape for the network\n",
    "clip_mel = librosa.feature.melspectrogram(clip).T\n",
    "clip_mel = np.expand_dims(clip_mel, axis=[0, -1])\n",
    "\n",
    "# use the network to predict the uttered word\n",
    "print(\"\\nThe uttered word is: %s.\" % labels[np.argmax(model.predict(clip_mel))])\n",
    "\n",
    "ipd.Audio(clip, rate=sr)"
   ]
  },
  {
   "cell_type": "code",
   "execution_count": null,
   "metadata": {},
   "outputs": [],
   "source": []
  }
 ],
 "metadata": {
  "kernelspec": {
   "display_name": "Python 3",
   "language": "python",
   "name": "python3"
  },
  "language_info": {
   "codemirror_mode": {
    "name": "ipython",
    "version": 3
   },
   "file_extension": ".py",
   "mimetype": "text/x-python",
   "name": "python",
   "nbconvert_exporter": "python",
   "pygments_lexer": "ipython3",
   "version": "3.7.3"
  }
 },
 "nbformat": 4,
 "nbformat_minor": 4
}
