{
 "cells": [
  {
   "cell_type": "markdown",
   "metadata": {},
   "source": [
    "## Single-word speech recognition on the Tensorflow Speech Recognition dataset\n",
    "\n",
    "This notebook has four sections: preprocessing, training, evaluation, and testing on own voice commands. To evaluate the final result, skip to section 4 (testing on own voice commands).\n"
   ]
  },
  {
   "cell_type": "code",
   "execution_count": 2,
   "metadata": {},
   "outputs": [],
   "source": [
    "import os\n",
    "import random\n",
    "import time\n",
    "\n",
    "import numpy as np\n",
    "import matplotlib.pyplot as plt\n",
    "import tensorflow as tf\n",
    "\n",
    "import librosa\n",
    "import IPython.display as ipd\n",
    "from scipy.io import wavfile"
   ]
  },
  {
   "cell_type": "markdown",
   "metadata": {},
   "source": [
    "### 1. Preprocess dataset\n",
    "\n",
    "This step relies on previous preprocessing that simply cropped the first second of each audio file and saved the recordings as rows in one big matrix (ndarray)."
   ]
  },
  {
   "cell_type": "code",
   "execution_count": 3,
   "metadata": {},
   "outputs": [
    {
     "data": {
      "text/plain": [
       "array(['bed', 'bird', 'cat', 'dog', 'down', 'eight', 'five', 'four', 'go',\n",
       "       'happy', 'house', 'left', 'marvin', 'nine', 'no', 'off', 'on',\n",
       "       'one', 'right', 'seven', 'sheila', 'six', 'stop', 'three', 'tree',\n",
       "       'two', 'up', 'wow', 'yes', 'zero'], dtype='<U6')"
      ]
     },
     "execution_count": 3,
     "metadata": {},
     "output_type": "execute_result"
    }
   ],
   "source": [
    "labels = np.load(\"data/labels.npy\")\n",
    "labels"
   ]
  },
  {
   "cell_type": "code",
   "execution_count": null,
   "metadata": {},
   "outputs": [],
   "source": [
    "sr = 8000"
   ]
  },
  {
   "cell_type": "code",
   "execution_count": 2,
   "metadata": {},
   "outputs": [],
   "source": [
    "x_train_raw = np.load(\"data/raw/x_train.npy\")"
   ]
  },
  {
   "cell_type": "code",
   "execution_count": 6,
   "metadata": {},
   "outputs": [],
   "source": [
    "n_examples, rec_length = x_train_raw.shape"
   ]
  },
  {
   "cell_type": "code",
   "execution_count": 11,
   "metadata": {},
   "outputs": [
    {
     "name": "stdout",
     "output_type": "stream",
     "text": [
      "seven\n"
     ]
    },
    {
     "data": {
      "text/html": [
       "\n",
       "                <audio  controls=\"controls\" >\n",
       "                    <source src=\"data:audio/wav;base64,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\" type=\"audio/wav\" />\n",
       "                    Your browser does not support the audio element.\n",
       "                </audio>\n",
       "              "
      ],
      "text/plain": [
       "<IPython.lib.display.Audio object>"
      ]
     },
     "execution_count": 11,
     "metadata": {},
     "output_type": "execute_result"
    }
   ],
   "source": [
    "first_example = x_train_raw[0]\n",
    "print(labels[y_train_raw[0]])\n",
    "ipd.Audio(first_example, rate=8000)"
   ]
  },
  {
   "cell_type": "markdown",
   "metadata": {},
   "source": [
    "Prepare Mel spectrograms for the recordings in the dataset"
   ]
  },
  {
   "cell_type": "code",
   "execution_count": 18,
   "metadata": {},
   "outputs": [],
   "source": [
    "first_mel = librosa.feature.melspectrogram(first_example)\n",
    "first_mel = first_mel.T  # transpose for LSTM\n",
    "n_tsteps, n_mels = first_mel.shape"
   ]
  },
  {
   "cell_type": "code",
   "execution_count": 23,
   "metadata": {},
   "outputs": [
    {
     "name": "stdout",
     "output_type": "stream",
     "text": [
      "Done 56721/56721."
     ]
    }
   ],
   "source": [
    "x_train = np.zeros(shape=(n_examples, n_tsteps, n_mels, 1))\n",
    "\n",
    "for i in range(n_examples):\n",
    "    # extract audio recording\n",
    "    rec = x_train_raw[i]\n",
    "    \n",
    "    # convert to Mel spectrogram (transposed for LSTM compatibility)\n",
    "    melspec = librosa.feature.melspectrogram(rec).T\n",
    "    \n",
    "    x_train[i, :, :, 0] = melspec\n",
    "    \n",
    "    print(\"\\rDone %d/%d.\" % (i+1, n_examples), end='')\n",
    "    \n",
    "# save data to disk\n",
    "np.save(\"data/mel/x_train\", x_train)"
   ]
  },
  {
   "cell_type": "code",
   "execution_count": 31,
   "metadata": {},
   "outputs": [
    {
     "name": "stdout",
     "output_type": "stream",
     "text": [
      "Done 1000/1000."
     ]
    }
   ],
   "source": [
    "# do the same for validation set\n",
    "x_val_raw = np.load(\"data/raw/x_val.npy\")\n",
    "n_examples, rec_length = x_val_raw.shape\n",
    "\n",
    "x_val = np.zeros(shape=(n_examples, n_tsteps, n_mels, 1))\n",
    "\n",
    "for i in range(n_examples):\n",
    "    # extract audio recording\n",
    "    rec = x_val_raw[i]\n",
    "    \n",
    "    # convert to Mel spectrogram (transposed for LSTM compatibility)\n",
    "    melspec = librosa.feature.melspectrogram(rec).T\n",
    "    \n",
    "    x_val[i, :, :, 0] = melspec\n",
    "    \n",
    "    print(\"\\rDone %d/%d.\" % (i+1, n_examples), end='')\n",
    "    \n",
    "# save data to disk\n",
    "np.save(\"data/mel/x_val\", x_val)"
   ]
  },
  {
   "cell_type": "code",
   "execution_count": 33,
   "metadata": {},
   "outputs": [
    {
     "name": "stdout",
     "output_type": "stream",
     "text": [
      "Done 7000/7000."
     ]
    }
   ],
   "source": [
    "# do the same for test set\n",
    "x_test_raw = np.load(\"data/raw/x_test.npy\")\n",
    "n_examples, rec_length = x_test_raw.shape\n",
    "\n",
    "x_test = np.zeros(shape=(n_examples, n_tsteps, n_mels, 1))\n",
    "\n",
    "for i in range(n_examples):\n",
    "    # extract audio recording\n",
    "    rec = x_test_raw[i]\n",
    "    \n",
    "    # convert to Mel spectrogram (transposed for LSTM compatibility)\n",
    "    melspec = librosa.feature.melspectrogram(rec).T\n",
    "    \n",
    "    x_test[i, :, :, 0] = melspec\n",
    "    \n",
    "    print(\"\\rDone %d/%d.\" % (i+1, n_examples), end='')\n",
    "    \n",
    "# save data to disk\n",
    "np.save(\"data/mel/x_test\", x_test)"
   ]
  },
  {
   "cell_type": "markdown",
   "metadata": {},
   "source": [
    "### 2. Train on dataset"
   ]
  },
  {
   "cell_type": "code",
   "execution_count": 6,
   "metadata": {},
   "outputs": [],
   "source": [
    "from tensorflow.keras.models import Sequential, Model, model_from_json\n",
    "from tensorflow.keras.layers import Input, Conv2D, MaxPooling2D, Dense, LSTM, Embedding, BatchNormalization, Reshape, Activation, Dropout\n",
    "from tensorflow.keras.preprocessing import sequence\n",
    "from tensorflow.keras.optimizers import Adam"
   ]
  },
  {
   "cell_type": "code",
   "execution_count": 7,
   "metadata": {},
   "outputs": [],
   "source": [
    "y_train = np.load(\"data/raw/y_train.npy\")\n",
    "y_val = np.load(\"data/raw/y_val.npy\")"
   ]
  },
  {
   "cell_type": "code",
   "execution_count": 8,
   "metadata": {},
   "outputs": [],
   "source": [
    "# define CNN LSTM for speech command recognition\n",
    "def lstm_speech(input_shape):\n",
    "    model = Sequential()\n",
    "    model.add(Conv2D(input_shape=input_shape, filters=16, kernel_size=(3,5), padding='valid', activation='relu'))\n",
    "    model.add(MaxPooling2D(pool_size=(1, 2), strides=(1, 2)))\n",
    "    model.add(BatchNormalization())\n",
    "\n",
    "    model.add(Conv2D(filters=16, kernel_size=(3,5), padding='valid', activation='relu'))\n",
    "    model.add(MaxPooling2D(pool_size=(1, 2), strides=(1, 2)))\n",
    "    model.add(BatchNormalization())\n",
    "\n",
    "    model.add(Conv2D(filters=32, kernel_size=(3,5), padding='valid', activation='relu'))\n",
    "    model.add(MaxPooling2D(pool_size=(1, 2), strides=(1, 2)))\n",
    "    model.add(BatchNormalization())\n",
    "\n",
    "    model.add(Conv2D(filters=64, kernel_size=(3,5), padding='valid', activation='relu'))\n",
    "    model.add(MaxPooling2D(pool_size=(1, 2), strides=(1, 2)))\n",
    "    model.add(Dropout(rate=0.3))\n",
    "\n",
    "    model.add(Reshape((8, 4*64)))\n",
    "\n",
    "    model.add(LSTM(100, input_shape=(16, 112*16)))\n",
    "    model.add(Dense(30, activation='softmax'))\n",
    "\n",
    "    return model"
   ]
  },
  {
   "cell_type": "code",
   "execution_count": 9,
   "metadata": {},
   "outputs": [],
   "source": [
    "def savemodel(model, name, model_path='model/'):\n",
    "    \"\"\"\n",
    "    Convenience method that makes it easy to save a model\n",
    "    \"\"\"\n",
    "\n",
    "    model_json = model.to_json()\n",
    "    with open(model_path + name + \".json\", \"w\") as json_file:\n",
    "        json_file.write(model_json)\n",
    "    # serialize weights to HDF5\n",
    "    model.save_weights(model_path + name + \".h5\")\n",
    "    print(\"Saved model to disk\")"
   ]
  },
  {
   "cell_type": "code",
   "execution_count": 10,
   "metadata": {},
   "outputs": [],
   "source": [
    "def loadmodel(name, model_path='model/'):\n",
    "    \"\"\"\n",
    "    Convenience method that makes it easy to load a model\n",
    "    \"\"\"\n",
    "\n",
    "    json_file = open(model_path + name + \".json\", 'r')\n",
    "    loaded_model_json = json_file.read()\n",
    "    json_file.close()\n",
    "    model = model_from_json(loaded_model_json)\n",
    "    # load weights into new model\n",
    "    model.load_weights(model_path + name + \".h5\")\n",
    "    print(\"Loaded model %s from disk\" % name)\n",
    "\n",
    "    return model"
   ]
  },
  {
   "cell_type": "code",
   "execution_count": 38,
   "metadata": {},
   "outputs": [
    {
     "name": "stdout",
     "output_type": "stream",
     "text": [
      "Model: \"sequential\"\n",
      "_________________________________________________________________\n",
      "Layer (type)                 Output Shape              Param #   \n",
      "=================================================================\n",
      "conv2d (Conv2D)              (None, 14, 124, 16)       256       \n",
      "_________________________________________________________________\n",
      "max_pooling2d (MaxPooling2D) (None, 14, 62, 16)        0         \n",
      "_________________________________________________________________\n",
      "batch_normalization (BatchNo (None, 14, 62, 16)        64        \n",
      "_________________________________________________________________\n",
      "conv2d_1 (Conv2D)            (None, 12, 58, 16)        3856      \n",
      "_________________________________________________________________\n",
      "max_pooling2d_1 (MaxPooling2 (None, 12, 29, 16)        0         \n",
      "_________________________________________________________________\n",
      "batch_normalization_1 (Batch (None, 12, 29, 16)        64        \n",
      "_________________________________________________________________\n",
      "conv2d_2 (Conv2D)            (None, 10, 25, 32)        7712      \n",
      "_________________________________________________________________\n",
      "max_pooling2d_2 (MaxPooling2 (None, 10, 12, 32)        0         \n",
      "_________________________________________________________________\n",
      "batch_normalization_2 (Batch (None, 10, 12, 32)        128       \n",
      "_________________________________________________________________\n",
      "conv2d_3 (Conv2D)            (None, 8, 8, 64)          30784     \n",
      "_________________________________________________________________\n",
      "max_pooling2d_3 (MaxPooling2 (None, 8, 4, 64)          0         \n",
      "_________________________________________________________________\n",
      "dropout (Dropout)            (None, 8, 4, 64)          0         \n",
      "_________________________________________________________________\n",
      "reshape (Reshape)            (None, 8, 256)            0         \n",
      "_________________________________________________________________\n",
      "lstm (LSTM)                  (None, 100)               142800    \n",
      "_________________________________________________________________\n",
      "dense (Dense)                (None, 30)                3030      \n",
      "=================================================================\n",
      "Total params: 188,694\n",
      "Trainable params: 188,566\n",
      "Non-trainable params: 128\n",
      "_________________________________________________________________\n"
     ]
    }
   ],
   "source": [
    "model = lstm_speech(x_val[0].shape)\n",
    "model.summary()"
   ]
  },
  {
   "cell_type": "code",
   "execution_count": 43,
   "metadata": {},
   "outputs": [
    {
     "name": "stdout",
     "output_type": "stream",
     "text": [
      "Epoch 1/30\n",
      "WARNING:tensorflow:AutoGraph could not transform <function Model.make_train_function.<locals>.train_function at 0x2b7eaba60> and will run it as-is.\n",
      "Please report this to the TensorFlow team. When filing the bug, set the verbosity to 10 (on Linux, `export AUTOGRAPH_VERBOSITY=10`) and attach the full output.\n",
      "Cause: Bad argument number for Name: 4, expecting 3\n",
      "To silence this warning, decorate the function with @tf.autograph.experimental.do_not_convert\n",
      "WARNING: AutoGraph could not transform <function Model.make_train_function.<locals>.train_function at 0x2b7eaba60> and will run it as-is.\n",
      "Please report this to the TensorFlow team. When filing the bug, set the verbosity to 10 (on Linux, `export AUTOGRAPH_VERBOSITY=10`) and attach the full output.\n",
      "Cause: Bad argument number for Name: 4, expecting 3\n",
      "To silence this warning, decorate the function with @tf.autograph.experimental.do_not_convert\n",
      "222/222 [==============================] - ETA: 0s - loss: 2.2953 - accuracy: 0.3124WARNING:tensorflow:AutoGraph could not transform <function Model.make_test_function.<locals>.test_function at 0x2ae1368c8> and will run it as-is.\n",
      "Please report this to the TensorFlow team. When filing the bug, set the verbosity to 10 (on Linux, `export AUTOGRAPH_VERBOSITY=10`) and attach the full output.\n",
      "Cause: Bad argument number for Name: 4, expecting 3\n",
      "To silence this warning, decorate the function with @tf.autograph.experimental.do_not_convert\n",
      "WARNING: AutoGraph could not transform <function Model.make_test_function.<locals>.test_function at 0x2ae1368c8> and will run it as-is.\n",
      "Please report this to the TensorFlow team. When filing the bug, set the verbosity to 10 (on Linux, `export AUTOGRAPH_VERBOSITY=10`) and attach the full output.\n",
      "Cause: Bad argument number for Name: 4, expecting 3\n",
      "To silence this warning, decorate the function with @tf.autograph.experimental.do_not_convert\n",
      "222/222 [==============================] - 149s 671ms/step - loss: 2.2953 - accuracy: 0.3124 - val_loss: 2.9768 - val_accuracy: 0.2000\n",
      "Epoch 2/30\n",
      "222/222 [==============================] - 111s 500ms/step - loss: 1.2444 - accuracy: 0.6250 - val_loss: 1.9482 - val_accuracy: 0.4420\n",
      "Epoch 3/30\n",
      "222/222 [==============================] - 98s 443ms/step - loss: 0.8448 - accuracy: 0.7454 - val_loss: 1.3980 - val_accuracy: 0.5840\n",
      "Epoch 4/30\n",
      "222/222 [==============================] - 97s 437ms/step - loss: 0.6740 - accuracy: 0.7954 - val_loss: 0.8298 - val_accuracy: 0.7490\n",
      "Epoch 5/30\n",
      "222/222 [==============================] - 97s 438ms/step - loss: 0.5771 - accuracy: 0.8247 - val_loss: 0.7758 - val_accuracy: 0.7610\n",
      "Epoch 6/30\n",
      "222/222 [==============================] - 97s 435ms/step - loss: 0.5045 - accuracy: 0.8460 - val_loss: 0.5640 - val_accuracy: 0.8260\n",
      "Epoch 7/30\n",
      "222/222 [==============================] - 98s 440ms/step - loss: 0.4621 - accuracy: 0.8576 - val_loss: 0.6278 - val_accuracy: 0.8070\n",
      "Epoch 8/30\n",
      "222/222 [==============================] - 96s 431ms/step - loss: 0.4228 - accuracy: 0.8722 - val_loss: 0.4914 - val_accuracy: 0.8430\n",
      "Epoch 9/30\n",
      "222/222 [==============================] - 94s 423ms/step - loss: 0.3931 - accuracy: 0.8787 - val_loss: 0.4577 - val_accuracy: 0.8580\n",
      "Epoch 10/30\n",
      "222/222 [==============================] - 93s 421ms/step - loss: 0.3677 - accuracy: 0.8861 - val_loss: 0.4335 - val_accuracy: 0.8660\n",
      "Epoch 11/30\n",
      "222/222 [==============================] - 94s 422ms/step - loss: 0.3432 - accuracy: 0.8940 - val_loss: 0.4331 - val_accuracy: 0.8760\n",
      "Epoch 12/30\n",
      "222/222 [==============================] - 94s 424ms/step - loss: 0.3296 - accuracy: 0.8963 - val_loss: 0.4659 - val_accuracy: 0.8560\n",
      "Epoch 13/30\n",
      "222/222 [==============================] - 96s 430ms/step - loss: 0.3057 - accuracy: 0.9057 - val_loss: 0.4461 - val_accuracy: 0.8660\n",
      "Epoch 14/30\n",
      "222/222 [==============================] - 121s 547ms/step - loss: 0.2916 - accuracy: 0.9088 - val_loss: 0.5051 - val_accuracy: 0.8460\n",
      "Epoch 15/30\n",
      "222/222 [==============================] - 96s 431ms/step - loss: 0.2853 - accuracy: 0.9109 - val_loss: 0.3990 - val_accuracy: 0.8700\n",
      "Epoch 16/30\n",
      "222/222 [==============================] - 95s 429ms/step - loss: 0.2679 - accuracy: 0.9157 - val_loss: 0.4388 - val_accuracy: 0.8750\n",
      "Epoch 17/30\n",
      "222/222 [==============================] - 94s 422ms/step - loss: 0.2549 - accuracy: 0.9203 - val_loss: 0.4593 - val_accuracy: 0.8670\n",
      "Epoch 18/30\n",
      "222/222 [==============================] - 94s 424ms/step - loss: 0.2447 - accuracy: 0.9224 - val_loss: 0.6056 - val_accuracy: 0.8330\n",
      "Epoch 19/30\n",
      "222/222 [==============================] - 94s 422ms/step - loss: 0.2342 - accuracy: 0.9261 - val_loss: 0.3941 - val_accuracy: 0.8780\n",
      "Epoch 20/30\n",
      "222/222 [==============================] - 95s 426ms/step - loss: 0.2244 - accuracy: 0.9298 - val_loss: 0.4020 - val_accuracy: 0.8770\n",
      "Epoch 21/30\n",
      "222/222 [==============================] - 94s 425ms/step - loss: 0.2162 - accuracy: 0.9317 - val_loss: 0.3439 - val_accuracy: 0.8920\n",
      "Epoch 22/30\n",
      "222/222 [==============================] - 94s 422ms/step - loss: 0.2117 - accuracy: 0.9340 - val_loss: 0.4152 - val_accuracy: 0.8760\n",
      "Epoch 23/30\n",
      "222/222 [==============================] - 94s 423ms/step - loss: 0.2019 - accuracy: 0.9368 - val_loss: 0.4013 - val_accuracy: 0.8760\n",
      "Epoch 24/30\n",
      "222/222 [==============================] - 94s 425ms/step - loss: 0.1958 - accuracy: 0.9377 - val_loss: 0.3726 - val_accuracy: 0.8920\n",
      "Epoch 25/30\n",
      "222/222 [==============================] - 94s 424ms/step - loss: 0.1889 - accuracy: 0.9408 - val_loss: 0.4095 - val_accuracy: 0.8800\n",
      "Epoch 26/30\n",
      "222/222 [==============================] - 94s 424ms/step - loss: 0.1843 - accuracy: 0.9423 - val_loss: 0.5046 - val_accuracy: 0.8560\n",
      "Epoch 27/30\n",
      "222/222 [==============================] - 94s 424ms/step - loss: 0.1792 - accuracy: 0.9430 - val_loss: 0.3726 - val_accuracy: 0.8820\n",
      "Epoch 28/30\n",
      "222/222 [==============================] - 94s 425ms/step - loss: 0.1701 - accuracy: 0.9461 - val_loss: 0.5174 - val_accuracy: 0.8480\n",
      "Epoch 29/30\n",
      "222/222 [==============================] - 94s 425ms/step - loss: 0.1698 - accuracy: 0.9456 - val_loss: 0.4900 - val_accuracy: 0.8760\n",
      "Epoch 30/30\n",
      "222/222 [==============================] - 94s 425ms/step - loss: 0.1649 - accuracy: 0.9474 - val_loss: 0.4209 - val_accuracy: 0.8870\n",
      "Saved model to disk\n"
     ]
    }
   ],
   "source": [
    "model.compile(optimizer=Adam(), loss='sparse_categorical_crossentropy', metrics=['accuracy'])\n",
    "history = model.fit(x=x_train, y=y_train, batch_size=256, epochs=30, validation_data=(x_val, y_val))\n",
    "savemodel(model, \"speech_class\")"
   ]
  },
  {
   "cell_type": "code",
   "execution_count": 44,
   "metadata": {},
   "outputs": [
    {
     "data": {
      "image/png": "[encoded data removed]",
      "text/plain": [
       "<Figure size 432x288 with 1 Axes>"
      ]
     },
     "metadata": {
      "needs_background": "light"
     },
     "output_type": "display_data"
    }
   ],
   "source": [
    "plt.plot(np.arange(1, len(history.history[\"loss\"])+1), history.history[\"loss\"], label=\"loss\")\n",
    "plt.plot(np.arange(1, len(history.history[\"loss\"])+1), history.history[\"val_loss\"], label=\"val_loss\")\n",
    "plt.legend()\n",
    "plt.xlabel(\"Epoch\")\n",
    "plt.title(\"Loss history\")\n",
    "plt.show()"
   ]
  },
  {
   "cell_type": "code",
   "execution_count": 45,
   "metadata": {},
   "outputs": [
    {
     "data": {
      "image/png": "[encoded data removed]",
      "text/plain": [
       "<Figure size 432x288 with 1 Axes>"
      ]
     },
     "metadata": {
      "needs_background": "light"
     },
     "output_type": "display_data"
    }
   ],
   "source": [
    "plt.plot(np.arange(1, len(history.history[\"accuracy\"])+1), history.history[\"accuracy\"], label=\"acccuracy\")\n",
    "plt.plot(np.arange(1, len(history.history[\"accuracy\"])+1), history.history[\"val_accuracy\"], label=\"val_accuracy\")\n",
    "plt.legend()\n",
    "plt.xlabel(\"Epoch\")\n",
    "plt.title(\"Accuracy history\")\n",
    "plt.show()"
   ]
  },
  {
   "cell_type": "markdown",
   "metadata": {},
   "source": [
    "### 3. Evaluate model"
   ]
  },
  {
   "cell_type": "code",
   "execution_count": 27,
   "metadata": {},
   "outputs": [],
   "source": [
    "x_test = np.load(\"data/mel/x_test.npy\")\n",
    "y_test = np.load(\"data/raw/y_test.npy\")"
   ]
  },
  {
   "cell_type": "code",
   "execution_count": 28,
   "metadata": {},
   "outputs": [
    {
     "name": "stdout",
     "output_type": "stream",
     "text": [
      "Loaded model speech_class from disk\n"
     ]
    }
   ],
   "source": [
    "model = loadmodel(\"speech_class\")\n",
    "model.compile(optimizer=Adam(), loss='sparse_categorical_crossentropy', metrics=['accuracy'])"
   ]
  },
  {
   "cell_type": "code",
   "execution_count": 12,
   "metadata": {},
   "outputs": [
    {
     "name": "stdout",
     "output_type": "stream",
     "text": [
      "WARNING:tensorflow:AutoGraph could not transform <function Model.make_test_function.<locals>.test_function at 0x16d1bc510> and will run it as-is.\n",
      "Please report this to the TensorFlow team. When filing the bug, set the verbosity to 10 (on Linux, `export AUTOGRAPH_VERBOSITY=10`) and attach the full output.\n",
      "Cause: Bad argument number for Name: 4, expecting 3\n",
      "To silence this warning, decorate the function with @tf.autograph.experimental.do_not_convert\n",
      "WARNING: AutoGraph could not transform <function Model.make_test_function.<locals>.test_function at 0x16d1bc510> and will run it as-is.\n",
      "Please report this to the TensorFlow team. When filing the bug, set the verbosity to 10 (on Linux, `export AUTOGRAPH_VERBOSITY=10`) and attach the full output.\n",
      "Cause: Bad argument number for Name: 4, expecting 3\n",
      "To silence this warning, decorate the function with @tf.autograph.experimental.do_not_convert\n",
      "219/219 [==============================] - 4s 17ms/step - loss: 0.3545 - accuracy: 0.8963\n",
      "Testing accuracy: 0.896.\n"
     ]
    }
   ],
   "source": [
    "test_acc = model.evaluate(x=x_test, y=y_test)[1]\n",
    "print(\"Testing accuracy: %.3f.\" % test_acc)"
   ]
  },
  {
   "cell_type": "markdown",
   "metadata": {},
   "source": [
    "### 4. Test own voice commands\n",
    "\n",
    "This section handles loading the model, recording a short voice clip, and using the model to classify the uttered word."
   ]
  },
  {
   "cell_type": "code",
   "execution_count": 39,
   "metadata": {},
   "outputs": [
    {
     "name": "stdout",
     "output_type": "stream",
     "text": [
      "Loaded model speech_class from disk\n"
     ]
    }
   ],
   "source": [
    "import os\n",
    "import random\n",
    "import time\n",
    "\n",
    "import numpy as np\n",
    "import matplotlib.pyplot as plt\n",
    "import tensorflow as tf\n",
    "\n",
    "import librosa\n",
    "import IPython.display as ipd\n",
    "from scipy.io import wavfile \n",
    "\n",
    "from tensorflow.keras.models import Sequential, Model, model_from_json\n",
    "from tensorflow.keras.layers import Input, Conv2D, MaxPooling2D, Dense, LSTM, Embedding, BatchNormalization, Reshape, Activation, Dropout\n",
    "from tensorflow.keras.preprocessing import sequence\n",
    "from tensorflow.keras.optimizers import Adam\n",
    "\n",
    "model = loadmodel(\"speech_class\")\n",
    "model.compile(optimizer=Adam(), loss='sparse_categorical_crossentropy', metrics=['accuracy'])"
   ]
  },
  {
   "cell_type": "code",
   "execution_count": 40,
   "metadata": {},
   "outputs": [],
   "source": [
    "def record(name, sr=8000):\n",
    "    \"\"\"\n",
    "    helper function that records and returns a 2-second voice clip\n",
    "    \n",
    "    name: (str) filename for recording\n",
    "    sr: (int) sample rate\n",
    "    \n",
    "    return: tuple: (ndarray) audio recording, (int) sample rate\n",
    "    \"\"\"\n",
    "    \n",
    "    if name.endswith(\".wav\"):\n",
    "        name = name[:-4]\n",
    "    \n",
    "    # make temporary recording on hard disk\n",
    "    os.system(\"sox -b 32 -e unsigned-integer -r 96k -c 2 -d --clobber --buffer $((96000*2*10)) %s.wav trim 0 2\" % \n",
    "              name)\n",
    "    \n",
    "    # load samples into local variable\n",
    "    rec, sr = librosa.load(name + \".wav\", sr=sr)\n",
    "    \n",
    "    # erase temporary recording from hard disk and return the samples loaded into local variable\n",
    "    os.unlink(name + \".wav\")\n",
    "    return rec, sr"
   ]
  },
  {
   "cell_type": "code",
   "execution_count": 41,
   "metadata": {},
   "outputs": [],
   "source": [
    "def trim(x, target_length=1, sr=8000, hop_length=100):\n",
    "    \"\"\"\n",
    "    helper function that trims audio clip x to target_length around the onset of the uttered word\n",
    "    \n",
    "    x: (ndarray) audio clip\n",
    "    target_length: (float) desired length in seconds\n",
    "    sr: (int) sample rate\n",
    "    hop_length: (int) frame hop length for onset_detect\n",
    "    \n",
    "    return:\n",
    "    clip: (ndarray) trimmed recording\n",
    "    \"\"\"\n",
    "    \n",
    "    # convert from seconds to samples\n",
    "    target_length = int(target_length*sr)\n",
    "    \n",
    "    if len(x) < target_length:\n",
    "        raise RuntimeError(\"Error in trim: target length %.2f greater than recording length %.2f.\" % \n",
    "                           (target_length/sr, len(x)/sr))\n",
    "    \n",
    "    # find onsets and use first one as reference for trimming clip\n",
    "    onset_samples = librosa.onset.onset_detect(rec,\n",
    "                                           sr=sr, units='samples', \n",
    "                                           hop_length=hop_length, \n",
    "                                           backtrack=False,\n",
    "                                           pre_max=20,\n",
    "                                           post_max=20,\n",
    "                                           pre_avg=100,\n",
    "                                           post_avg=100,\n",
    "                                           delta=0.2,\n",
    "                                           wait=0)\n",
    "    \n",
    "    # start click sligthly before onset; if onset too early, start at the beginning\n",
    "    starting_idx = onset_samples[0] - target_length//5\n",
    "    if starting_idx < 0:\n",
    "        starting_idx = 0\n",
    "    \n",
    "    # if onset too late, just use the last (target_samples) samples\n",
    "    if len(x)-starting_idx < target_length:\n",
    "        starting_idx = len(x)-target_length-1\n",
    "    \n",
    "    return x[starting_idx:starting_idx+target_length]"
   ]
  },
  {
   "cell_type": "markdown",
   "metadata": {},
   "source": [
    "*__Note__: make sure the recorded word is one of the 30 words the network has learned.*"
   ]
  },
  {
   "cell_type": "code",
   "execution_count": 42,
   "metadata": {},
   "outputs": [
    {
     "data": {
      "text/plain": [
       "array(['bed', 'bird', 'cat', 'dog', 'down', 'eight', 'five', 'four', 'go',\n",
       "       'happy', 'house', 'left', 'marvin', 'nine', 'no', 'off', 'on',\n",
       "       'one', 'right', 'seven', 'sheila', 'six', 'stop', 'three', 'tree',\n",
       "       'two', 'up', 'wow', 'yes', 'zero'], dtype='<U6')"
      ]
     },
     "execution_count": 42,
     "metadata": {},
     "output_type": "execute_result"
    }
   ],
   "source": [
    "# load the labels the network was trained on\n",
    "labels = np.load(\"data/labels.npy\")\n",
    "labels"
   ]
  },
  {
   "cell_type": "code",
   "execution_count": 61,
   "metadata": {},
   "outputs": [
    {
     "data": {
      "text/html": [
       "\n",
       "                <audio  controls=\"controls\" >\n",
       "                    <source src=\"data:audio/wav;base64,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\" type=\"audio/wav\" />\n",
       "                    Your browser does not support the audio element.\n",
       "                </audio>\n",
       "              "
      ],
      "text/plain": [
       "<IPython.lib.display.Audio object>"
      ]
     },
     "execution_count": 61,
     "metadata": {},
     "output_type": "execute_result"
    }
   ],
   "source": [
    "# record a 2-second clip, trim it to one second, and predict uttered word\n",
    "rec, sr = record(\"test\")\n",
    "clip = trim(rec)\n",
    "ipd.Audio(clip, rate=sr)"
   ]
  },
  {
   "cell_type": "code",
   "execution_count": 62,
   "metadata": {},
   "outputs": [
    {
     "data": {
      "text/plain": [
       "'right'"
      ]
     },
     "execution_count": 62,
     "metadata": {},
     "output_type": "execute_result"
    }
   ],
   "source": [
    "# take the Mel spectrogramm of the voice clip and reshape for the network\n",
    "clip_mel = librosa.feature.melspectrogram(clip).T\n",
    "clip_mel = np.expand_dims(clip_mel, axis=[0, -1])\n",
    "\n",
    "# use the network to predict the uttered word\n",
    "labels[np.argmax(model.predict(clip_mel))]"
   ]
  },
  {
   "cell_type": "code",
   "execution_count": null,
   "metadata": {},
   "outputs": [],
   "source": []
  }
 ],
 "metadata": {
  "kernelspec": {
   "display_name": "Python 3",
   "language": "python",
   "name": "python3"
  },
  "language_info": {
   "codemirror_mode": {
    "name": "ipython",
    "version": 3
   },
   "file_extension": ".py",
   "mimetype": "text/x-python",
   "name": "python",
   "nbconvert_exporter": "python",
   "pygments_lexer": "ipython3",
   "version": "3.7.3"
  }
 },
 "nbformat": 4,
 "nbformat_minor": 4
}
